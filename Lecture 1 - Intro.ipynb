{
 "cells": [
  {
   "cell_type": "markdown",
   "metadata": {
    "slideshow": {
     "slide_type": "slide"
    }
   },
   "source": [
    "<h1 style=\"text-align:center\">Functional Programming</h1>\n",
    "<br />\n",
    "<h2 style=\"text-align:center\">Introduction</h2>\n",
    "<h4 style=\"text-align:center\">Tae Geun Kim</h4>"
   ]
  },
  {
   "cell_type": "markdown",
   "metadata": {
    "slideshow": {
     "slide_type": "subslide"
    }
   },
   "source": [
    "## - Table of Contents\n",
    "\n",
    "* 뭐\n",
    "* 왜\n",
    "* 그래서 뭐"
   ]
  },
  {
   "cell_type": "markdown",
   "metadata": {
    "slideshow": {
     "slide_type": "slide"
    }
   },
   "source": [
    "<h1 style=\"text-align:center\">뭐</h1>"
   ]
  },
  {
   "cell_type": "markdown",
   "metadata": {
    "slideshow": {
     "slide_type": "subslide"
    }
   },
   "source": [
    "## 함수형 프로그래밍\n",
    "\n",
    "* 객체지향 프로그래밍이 객체 위주라면 함수형 프로그래밍은 당연하게도 함수 위주\n",
    "* 함수는 일급 시민 - 반환 가능하고 인수로 사용 가능함\n",
    "* 예를 들면"
   ]
  },
  {
   "cell_type": "code",
   "execution_count": 1,
   "metadata": {
    "slideshow": {
     "slide_type": "fragment"
    }
   },
   "outputs": [
    {
     "data": {
      "text/plain": [
       "\"Hi Axect\""
      ]
     },
     "metadata": {},
     "output_type": "display_data"
    }
   ],
   "source": [
    "-- Haskell\n",
    "hello :: String -> (String -> String) -- String을 받아서 String에서 String으로 가는 함수를 반환함\n",
    "hello text = (text++)\n",
    "\n",
    "test = hello \"Hi\"\n",
    "test \" Axect\""
   ]
  },
  {
   "cell_type": "markdown",
   "metadata": {
    "slideshow": {
     "slide_type": "subslide"
    }
   },
   "source": [
    "* Haskell은 이해가 안되는데.."
   ]
  },
  {
   "cell_type": "markdown",
   "metadata": {
    "slideshow": {
     "slide_type": "fragment"
    }
   },
   "source": [
    "* 그래서 준비했습니다!"
   ]
  },
  {
   "cell_type": "markdown",
   "metadata": {
    "slideshow": {
     "slide_type": "fragment"
    }
   },
   "source": [
    "```julia\n",
    "# Julia\n",
    "function hello(text::String)\n",
    "    return function hi(text2::String)\n",
    "    return text * text2\n",
    "    end\n",
    "end\n",
    "\n",
    "hi = hello(\"Hi \")\n",
    "# hi (generic function with 1 method)\n",
    "\n",
    "hi(\"Axect\")\n",
    "# \"Hi Axect\"\n",
    "```"
   ]
  },
  {
   "cell_type": "markdown",
   "metadata": {
    "slideshow": {
     "slide_type": "subslide"
    }
   },
   "source": [
    "## 니가 알던 내가 아니야\n",
    "\n",
    "* 함수형 프로그래밍의 함수는 기존 프로그래밍의 함수들과 다름\n",
    "* 함수형 프로그래밍의 함수는 순수하다. (= 수학에서의 함수와 동치이다.)\n",
    "* 함수의 순수함은 참조투명성 (referentially transparent) 으로 정의됨\n",
    "* 쉽게 말해서 다음과 같은 함수는 수학에서 쓰지만\n",
    "\n",
    "$$f(x) = x^2$$"
   ]
  },
  {
   "cell_type": "markdown",
   "metadata": {
    "slideshow": {
     "slide_type": "fragment"
    }
   },
   "source": [
    "* 이런 함수는 안 쓰지 않나\n",
    "\n",
    "$$ f(x) = print(``hello world\")~and~ x^2$$ "
   ]
  },
  {
   "cell_type": "markdown",
   "metadata": {
    "slideshow": {
     "slide_type": "subslide"
    }
   },
   "source": [
    "### 참조 투명성\n",
    "\n",
    "* 참조투명성은 간단하게 \"치환 가능성\"을 의미\n",
    "* 예를 들어 다음 C++ 코드를 보자."
   ]
  },
  {
   "cell_type": "markdown",
   "metadata": {
    "slideshow": {
     "slide_type": "fragment"
    }
   },
   "source": [
    "```c++\n",
    "#include <iostream>\n",
    "\n",
    "using namespace std;\n",
    "\n",
    "int Inner(int a, int b) {\n",
    "    return a * b;\n",
    "}\n",
    "\n",
    "int main() {\n",
    "    cout <<Inner(3, 4) + Inner(1,2)<< endl;\n",
    "\n",
    "    return 0;\n",
    "}\n",
    "```"
   ]
  },
  {
   "cell_type": "markdown",
   "metadata": {
    "slideshow": {
     "slide_type": "fragment"
    }
   },
   "source": [
    "* `Inner(3,4)`는 12, `Inner(1,2)`는 2로 치환해도 결과는 같다. 따라서 `Inner`는 참조투명한 함수이며 순수한 함수이다."
   ]
  },
  {
   "cell_type": "markdown",
   "metadata": {
    "slideshow": {
     "slide_type": "subslide"
    }
   },
   "source": [
    "### 순수하지 않은 함수?\n",
    "\n",
    "* 치환 불가능한 함수도 있나? - 객체지향의 기본함수들은 대개 치환 불가능"
   ]
  },
  {
   "cell_type": "markdown",
   "metadata": {
    "slideshow": {
     "slide_type": "fragment"
    }
   },
   "source": [
    "```julia\n",
    "# Julia\n",
    "struct Circle\n",
    "    radius :: Float64\n",
    "end\n",
    "\n",
    "function extend(C::Circle)\n",
    "    C.radius += 1\n",
    "end\n",
    "```"
   ]
  },
  {
   "cell_type": "markdown",
   "metadata": {
    "slideshow": {
     "slide_type": "fragment"
    }
   },
   "source": [
    "* 값의 변경이 일어나는 경우나 print, 파일 읽기 쓰기 등등의 현실과 맞닿은 기능들은 순수하지 않음 -> **부작용 (Side Effect)!**\n",
    "* 현재는 부작용을 없애거나 거의 없앤 프로그래밍 패러다임을 함수형 프로그래밍이라고 말함."
   ]
  }
 ],
 "metadata": {
  "celltoolbar": "Slideshow",
  "kernelspec": {
   "display_name": "Haskell",
   "language": "haskell",
   "name": "haskell"
  },
  "language_info": {
   "codemirror_mode": "ihaskell",
   "file_extension": ".hs",
   "name": "haskell",
   "version": "8.2.2"
  }
 },
 "nbformat": 4,
 "nbformat_minor": 2
}
