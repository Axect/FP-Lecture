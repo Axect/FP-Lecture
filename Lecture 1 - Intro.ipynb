{
 "cells": [
  {
   "cell_type": "markdown",
   "metadata": {
    "slideshow": {
     "slide_type": "slide"
    }
   },
   "source": [
    "# Functional Programming\n",
    "<br />\n",
    "## Introduction\n",
    "#### Tae Geun Kim"
   ]
  },
  {
   "cell_type": "markdown",
   "metadata": {
    "slideshow": {
     "slide_type": "subslide"
    }
   },
   "source": [
    "### - Table of Contents\n",
    "\n",
    "* 뭐\n",
    "* 왜\n",
    "* 그래서 뭐"
   ]
  },
  {
   "cell_type": "markdown",
   "metadata": {
    "slideshow": {
     "slide_type": "slide"
    }
   },
   "source": [
    "<h1 style=\"text-align:center\">뭐</h1>"
   ]
  },
  {
   "cell_type": "markdown",
   "metadata": {
    "slideshow": {
     "slide_type": "subslide"
    }
   },
   "source": [
    "## 함수형 프로그래밍\n",
    "\n",
    "------\n",
    "\n",
    "* 객체지향 프로그래밍이 객체 위주라면 함수형 프로그래밍은 당연하게도 함수 위주\n",
    "* 함수는 일급 시민 - 반환 가능하고 인수로 사용 가능함\n",
    "* 예를 들면"
   ]
  },
  {
   "cell_type": "markdown",
   "metadata": {
    "slideshow": {
     "slide_type": "fragment"
    }
   },
   "source": [
    "```haskell\n",
    "-- Haskell\n",
    "hello :: String -> (String -> String) -- String을 받아서 String에서 String으로 가는 함수를 반환함\n",
    "hello text = (text++)\n",
    "\n",
    "test = hello \"Hi\" -- test is function!\n",
    "test \" Axect\" -- \"Hi Axect\"\n",
    "```"
   ]
  },
  {
   "cell_type": "markdown",
   "metadata": {
    "slideshow": {
     "slide_type": "subslide"
    }
   },
   "source": [
    "* Haskell은 이해가 안되는데.."
   ]
  },
  {
   "cell_type": "markdown",
   "metadata": {
    "slideshow": {
     "slide_type": "fragment"
    }
   },
   "source": [
    "* 그래서 준비했습니다!"
   ]
  },
  {
   "cell_type": "markdown",
   "metadata": {
    "slideshow": {
     "slide_type": "fragment"
    }
   },
   "source": [
    "```julia\n",
    "# Julia\n",
    "function hello(text::String)\n",
    "    return function hi(text2::String)\n",
    "    return text * text2\n",
    "    end\n",
    "end\n",
    "\n",
    "hi = hello(\"Hi \")\n",
    "# hi (generic function with 1 method)\n",
    "\n",
    "hi(\"Axect\")\n",
    "# \"Hi Axect\"\n",
    "```"
   ]
  },
  {
   "cell_type": "markdown",
   "metadata": {
    "slideshow": {
     "slide_type": "subslide"
    }
   },
   "source": [
    "## 니가 알던 내가 아니야\n",
    "\n",
    "-----\n",
    "\n",
    "* 함수형 프로그래밍의 함수는 기존 프로그래밍의 함수들과 다름\n",
    "* 함수형 프로그래밍의 함수는 순수하다. (= 수학에서의 함수와 동치이다.)\n",
    "* 함수의 순수함은 참조투명성 (referentially transparent) 으로 정의됨"
   ]
  },
  {
   "cell_type": "markdown",
   "metadata": {
    "slideshow": {
     "slide_type": "fragment"
    }
   },
   "source": [
    "* 쉽게 말해서 다음과 같은 함수는 수학에서 쓰지만\n",
    "\n",
    "$$f(x) = x^2$$"
   ]
  },
  {
   "cell_type": "markdown",
   "metadata": {
    "slideshow": {
     "slide_type": "fragment"
    }
   },
   "source": [
    "* 이런 함수는 안 쓰지 않나\n",
    "\n",
    "$$ f(x) = print(``hello world\")~and~ x^2$$ "
   ]
  },
  {
   "cell_type": "markdown",
   "metadata": {
    "slideshow": {
     "slide_type": "subslide"
    }
   },
   "source": [
    "### 참조 투명성\n",
    "\n",
    "-----\n",
    "\n",
    "* 참조투명성은 간단하게 \"치환 가능성\"을 의미\n",
    "* 예를 들어 다음 C++ 코드를 보자."
   ]
  },
  {
   "cell_type": "markdown",
   "metadata": {
    "slideshow": {
     "slide_type": "fragment"
    }
   },
   "source": [
    "```c++\n",
    "#include <iostream>\n",
    "\n",
    "using namespace std;\n",
    "\n",
    "int Inner(int a, int b) {\n",
    "    return a * b;\n",
    "}\n",
    "\n",
    "int main() {\n",
    "    cout <<Inner(3, 4) + Inner(1,2)<< endl;\n",
    "\n",
    "    return 0;\n",
    "}\n",
    "```"
   ]
  },
  {
   "cell_type": "markdown",
   "metadata": {
    "slideshow": {
     "slide_type": "fragment"
    }
   },
   "source": [
    "* `Inner(3,4)`는 12, `Inner(1,2)`는 2로 치환해도 결과는 같다. 따라서 `Inner`는 참조투명한 함수이며 순수한 함수이다."
   ]
  },
  {
   "cell_type": "markdown",
   "metadata": {
    "slideshow": {
     "slide_type": "subslide"
    }
   },
   "source": [
    "### 순수하지 않은 함수?\n",
    "\n",
    "-----\n",
    "\n",
    "* 치환 불가능한 함수도 있나? - 객체지향의 기본함수들은 대개 치환 불가능"
   ]
  },
  {
   "cell_type": "markdown",
   "metadata": {
    "slideshow": {
     "slide_type": "fragment"
    }
   },
   "source": [
    "```julia\n",
    "# Julia\n",
    "struct Circle\n",
    "    radius :: Float64\n",
    "end\n",
    "\n",
    "function extend(C::Circle)\n",
    "    C.radius += 1\n",
    "end\n",
    "```"
   ]
  },
  {
   "cell_type": "markdown",
   "metadata": {
    "slideshow": {
     "slide_type": "fragment"
    }
   },
   "source": [
    "* 값의 변경이 일어나는 경우나 print, 파일 읽기 쓰기 등등의 현실과 맞닿은 기능들은 순수하지 않음 -> **부작용 (Side Effect)!**\n",
    "* 현재는 부작용을 없애거나 거의 없앤 프로그래밍 패러다임을 함수형 프로그래밍이라고 말함."
   ]
  },
  {
   "cell_type": "markdown",
   "metadata": {
    "slideshow": {
     "slide_type": "subslide"
    }
   },
   "source": [
    "### \"거의 없앤?\"\n",
    "\n",
    "-----\n",
    "\n",
    "* 말했듯이 순수함수로는 `print`하는 것도 어려우니 순수함수만 외치면 사람들이 외면 (다음 짤을 참조)"
   ]
  },
  {
   "cell_type": "markdown",
   "metadata": {
    "slideshow": {
     "slide_type": "fragment"
    }
   },
   "source": [
    "![Sigh](Pictures/center_hs.png)"
   ]
  },
  {
   "cell_type": "markdown",
   "metadata": {
    "slideshow": {
     "slide_type": "fragment"
    }
   },
   "source": [
    "* 따라서 부작용의 도입에 따라 함수형 언어들이 분류 된다.\n",
    "    1. 완전 불허용: Haskell - Monad라는 대수적 구조로 요리조리 피해감, Elm, Idris, Coq (4색정리!)\n",
    "    2. 대체적으로 불허용: Erlang, Elixir, F#, Clojure, Ocaml\n",
    "    3. 완전 허용: Scala - FP + OOP (~~이단이다!~~)\n",
    "* 당연하게도 허용정도가 높을 수록 사람들이 많이 씀"
   ]
  },
  {
   "cell_type": "markdown",
   "metadata": {
    "slideshow": {
     "slide_type": "slide"
    }
   },
   "source": [
    "# 왜"
   ]
  },
  {
   "cell_type": "markdown",
   "metadata": {
    "slideshow": {
     "slide_type": "subslide"
    }
   },
   "source": [
    "## 왜를 하기 전에 질문 몇 가지만 합시다\n",
    "\n",
    "-----\n",
    "\n",
    "* 당신은 대학교에서 수학과 수업을 하나라도 들었습니까?"
   ]
  },
  {
   "cell_type": "markdown",
   "metadata": {
    "slideshow": {
     "slide_type": "fragment"
    }
   },
   "source": [
    "* 당신은 멀티코어 프로그래밍을 필요로 합니까?"
   ]
  },
  {
   "cell_type": "markdown",
   "metadata": {
    "slideshow": {
     "slide_type": "fragment"
    }
   },
   "source": [
    "* 당신은 C코드 혹은 Java나 C#코드를 치면서 Ceremony(불필요한 행사코드)에 고통받은 적이 있습니까?"
   ]
  },
  {
   "cell_type": "markdown",
   "metadata": {
    "slideshow": {
     "slide_type": "fragment"
    }
   },
   "source": [
    "* 당신은 포인터 연산보다 계산 알고리즘을 중요시합니까?"
   ]
  },
  {
   "cell_type": "markdown",
   "metadata": {
    "slideshow": {
     "slide_type": "fragment"
    }
   },
   "source": [
    "* 이 중에 하나라도 해당 된다면 함수형 프로그래밍을 하는 것이 이득이다."
   ]
  },
  {
   "cell_type": "markdown",
   "metadata": {
    "slideshow": {
     "slide_type": "subslide"
    }
   },
   "source": [
    "## 무어의 법칙의 종말\n",
    "\n",
    "-----\n",
    "\n",
    "**- 무어의 법칙?**  \n",
    ": 인텔의 고든 무어가 1965년에 주장한 법칙. 1000$로 살 수 있는 반도체의 집적회로 성능은 24개월마다 2배로 증가한다는 법칙이다. 좀 더 광범위하게 정의하면 컴퓨터의 성능은 일정 시기마다 배가하며 기하급수적으로 증가한다. ~~즉 공돌이들을 2년마다 두 배의 성능의 컴퓨터를 개발하도록 고문하는 법칙~~\n"
   ]
  },
  {
   "cell_type": "markdown",
   "metadata": {
    "slideshow": {
     "slide_type": "fragment"
    }
   },
   "source": [
    "**- 왜 깨짐?**  \n",
    ": 집적도가 5nm 쯤으로 가면 양자역학에서 밥먹듯 등장하는 터널링 현상으로 인해 전자가 다른 곳으로 워프해버리기 때문에 다른 와이어에 합선이 되는 등의 문제가 발생한다. 이 때쯤이면 더 이상 집적도를 높일 수 없기에 무어의 법칙은 반드시 (안 좋은 방향으로) 깨지게 된다. ~~양자역학이 또, 잘 가라 김용우~~"
   ]
  },
  {
   "cell_type": "markdown",
   "metadata": {
    "slideshow": {
     "slide_type": "fragment"
    }
   },
   "source": [
    "**- 해결책은?**  \n",
    ": 사실 CPU의 집적도를 높여서 연산 속도를 높이는 방식은 이미 한참 전에 끝나있다. 멀티코어 프로세서가 그 때문에 도입된 기술이고, 현재 멀티 프로세싱 기술은 코어 당 클럭의 숫자 그대로 온전히 연산 속도를 내지 못한다. 현재 CPU 속도는 L2캐시와 아키텍처 개선을 통해 높이는 것이 대세. 또한 GPGPU같이 작은 코어를 잔뜩 때려박아서 연산 속도를 높이는 방식은 아직도 유효하다. 슈퍼컴퓨터 역시 같은 원리로 성능이 향상 중이다. (출처: 나무위키)"
   ]
  },
  {
   "cell_type": "markdown",
   "metadata": {
    "slideshow": {
     "slide_type": "subslide"
    }
   },
   "source": [
    "## 답은 멀티코어다.\n",
    "\n",
    "-----\n",
    "\n",
    "* 노트북이 6코어 8코어 달고 나오는 시대에 싱글스레드 컴퓨팅은 경운기 한 대 끌고 12차선 고속도로 주행하는꼴\n",
    "* 프로그래밍 언어들도 멀티코어 지원을 활발히 하기 시작\n",
    "* 하지만 객체지향에는 심각한 문제가 존재하는데.."
   ]
  },
  {
   "cell_type": "markdown",
   "metadata": {
    "slideshow": {
     "slide_type": "fragment"
    }
   },
   "source": [
    "<p style=\"text-align:center\"><b>Mutability</b></p>"
   ]
  },
  {
   "cell_type": "markdown",
   "metadata": {
    "slideshow": {
     "slide_type": "fragment"
    }
   },
   "source": [
    "* 변하는 것 자체는 상관없지만 여러 스레드가 하나의 자료에 접근하여 변경하려는 것은 심각한 문제 ~~(사공이 많으면 배가 산으로 간다)~~ ~~(멀티코어 시대를 직감한 선조들의 지혜)~~"
   ]
  },
  {
   "cell_type": "markdown",
   "metadata": {
    "slideshow": {
     "slide_type": "subslide"
    }
   },
   "source": [
    "### 그래서 어쩌자고?\n",
    "\n",
    "-----\n",
    "\n",
    "* 당연하게도 프로그래밍 언어들은 해결책들을 제시\n",
    "    * 병렬로 하지말고 동시로 하자 (Async) : Java, C#, JS, Go 등등\n",
    "    * 아예 병렬 못하게 잠궈버리자 ~~(병렬을 폐지합니다)~~ : Python\n",
    "    * 한 놈에게만 변경권한을 주자 : Rust\n",
    "* 대충 해결은 됐는데 난이도가 넘사벽"
   ]
  },
  {
   "cell_type": "markdown",
   "metadata": {
    "slideshow": {
     "slide_type": "fragment"
    }
   },
   "source": [
    "* 새로운 아이디어 : 아예 모든 변수가 변경불가능하면?\n",
    "* 그야말로 완벽한 병렬이 구현 가능\n",
    "* 하지만 객체지향에서는 데이터의 변경이 메인 $\\Rightarrow$ 불변을 메인으로 하는 함수형 프로그래밍이 답"
   ]
  },
  {
   "cell_type": "markdown",
   "metadata": {
    "slideshow": {
     "slide_type": "subslide"
    }
   },
   "source": [
    "## 성능을 올리는 방법\n",
    "\n",
    "-----\n",
    "\n",
    "**다음 중 성질이 다른 하나를 고르시오.**  \n",
    "1. 더 높은 쿨럭의 CPU를 구매한다.\n",
    "2. 서버에 노드 하나를 더 박는다.\n",
    "3. 비싼 GPU를 하나 더 구매한다.\n",
    "4. 대학원생 한 명 골라서 수학 공부를 하게 한다."
   ]
  },
  {
   "cell_type": "markdown",
   "metadata": {
    "slideshow": {
     "slide_type": "fragment"
    }
   },
   "source": [
    "**당연히 답은 4번** - 나머지는 돈이 들지만 4번은 돈이 안 든다.  \n",
    "\n",
    "* 함수형 프로그래밍 언어는 수학 실력이 올라가면 성능이 올라간다. (이공계인들에게는 그리 막 어렵진 않다.)"
   ]
  },
  {
   "cell_type": "markdown",
   "metadata": {
    "slideshow": {
     "slide_type": "subslide"
    }
   },
   "source": [
    "<div style=\"text-align:center\"><img src=\"Pictures/fplangs.png\"></div>"
   ]
  },
  {
   "cell_type": "markdown",
   "metadata": {
    "slideshow": {
     "slide_type": "subslide"
    }
   },
   "source": []
  }
 ],
 "metadata": {
  "celltoolbar": "Slideshow",
  "kernelspec": {
   "display_name": "Haskell",
   "language": "haskell",
   "name": "haskell"
  },
  "language_info": {
   "codemirror_mode": "ihaskell",
   "file_extension": ".hs",
   "name": "haskell",
   "version": "8.2.2"
  }
 },
 "nbformat": 4,
 "nbformat_minor": 2
}
