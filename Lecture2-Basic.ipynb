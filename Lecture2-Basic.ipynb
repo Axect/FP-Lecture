{
 "cells": [
  {
   "cell_type": "markdown",
   "metadata": {
    "slideshow": {
     "slide_type": "slide"
    }
   },
   "source": [
    "# Functional Programming\n",
    "<br/>\n",
    "## Introduce Haskell\n",
    "\n",
    "#### Axect"
   ]
  },
  {
   "cell_type": "markdown",
   "metadata": {
    "slideshow": {
     "slide_type": "subslide"
    }
   },
   "source": [
    "<p style=\"text-align:center\"><b>Refer to \"Functional Programming in Scala\"</b></p>"
   ]
  },
  {
   "cell_type": "markdown",
   "metadata": {
    "slideshow": {
     "slide_type": "subslide"
    }
   },
   "source": [
    "**Table of Contents**\n",
    "\n",
    "* Installation\n",
    "* Basic Syntax\n",
    "* Basic FP\n",
    "* Functional Data Structures"
   ]
  },
  {
   "cell_type": "markdown",
   "metadata": {
    "slideshow": {
     "slide_type": "slide"
    }
   },
   "source": [
    "# Installation"
   ]
  },
  {
   "cell_type": "markdown",
   "metadata": {
    "slideshow": {
     "slide_type": "subslide"
    }
   },
   "source": [
    "## Haskell Platform\n",
    "\n",
    "---\n",
    "\n",
    "1. Go to [Haskell Platform](https://www.haskell.org/platform/)\n",
    "2. Download Haskell Platform\n",
    "3. Finish"
   ]
  },
  {
   "cell_type": "markdown",
   "metadata": {
    "slideshow": {
     "slide_type": "subslide"
    }
   },
   "source": [
    "## Haskell IDE\n",
    "\n",
    "---\n",
    "\n",
    "**Haskell Vim Now** [(Github)](https://github.com/begriffs/haskell-vim-now)\n",
    "\n",
    "![haskellvim](Pictures/center_hv.png)"
   ]
  },
  {
   "cell_type": "markdown",
   "metadata": {
    "slideshow": {
     "slide_type": "fragment"
    }
   },
   "source": [
    "* Install Vim & Tmux"
   ]
  },
  {
   "cell_type": "markdown",
   "metadata": {
    "slideshow": {
     "slide_type": "fragment"
    }
   },
   "source": [
    "* Install Haskell-Vim-Now\n",
    "```sh\n",
    "curl -L https://git.io/haskell-vim-now > /tmp/haskell-vim-now.sh\n",
    "bash /tmp/haskell-vim-now.sh\n",
    "```"
   ]
  },
  {
   "cell_type": "markdown",
   "metadata": {
    "slideshow": {
     "slide_type": "fragment"
    }
   },
   "source": [
    "* Install plugins of Axect\n",
    "```sh\n",
    "git clone https://github.com/Axect/Vim\n",
    "mv plugins.vim ~/.config/haskell-vim-now/plugins.vim\n",
    "vim +PlugInstall\n",
    "```"
   ]
  },
  {
   "cell_type": "markdown",
   "metadata": {},
   "source": []
  },
  {
   "cell_type": "markdown",
   "metadata": {},
   "source": []
  }
 ],
 "metadata": {
  "celltoolbar": "Slideshow",
  "kernelspec": {
   "display_name": "Haskell",
   "language": "haskell",
   "name": "haskell"
  },
  "language_info": {
   "codemirror_mode": "ihaskell",
   "file_extension": ".hs",
   "name": "haskell",
   "version": "8.2.2"
  }
 },
 "nbformat": 4,
 "nbformat_minor": 2
}
