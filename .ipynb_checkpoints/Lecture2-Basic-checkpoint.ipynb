{
 "cells": [
  {
   "cell_type": "markdown",
   "metadata": {
    "slideshow": {
     "slide_type": "slide"
    }
   },
   "source": [
    "# Functional Programming\n",
    "<br/>\n",
    "## Introduce Haskell & Basic FP Syntax\n",
    "\n",
    "#### Axect"
   ]
  },
  {
   "cell_type": "markdown",
   "metadata": {
    "slideshow": {
     "slide_type": "subslide"
    }
   },
   "source": [
    "<p style=\"text-align:center\"><b>Refer to \"Functional Programming in Scala\"\n",
    "    <br/>\n",
    "    & \"Think Functionally with Haskell\"</b></p>"
   ]
  },
  {
   "cell_type": "markdown",
   "metadata": {
    "slideshow": {
     "slide_type": "subslide"
    }
   },
   "source": [
    "**Table of Contents**\n",
    "\n",
    "* Installation\n",
    "* Basic Syntax\n",
    "* Basic FP\n",
    "* Functional Data Structures"
   ]
  },
  {
   "cell_type": "markdown",
   "metadata": {
    "slideshow": {
     "slide_type": "slide"
    }
   },
   "source": [
    "# Installation"
   ]
  },
  {
   "cell_type": "markdown",
   "metadata": {
    "slideshow": {
     "slide_type": "subslide"
    }
   },
   "source": [
    "## Haskell Platform\n",
    "\n",
    "---\n",
    "\n",
    "1. Go to [Haskell Platform](https://www.haskell.org/platform/)\n",
    "2. Download Haskell Platform\n",
    "3. Finish"
   ]
  },
  {
   "cell_type": "markdown",
   "metadata": {
    "slideshow": {
     "slide_type": "subslide"
    }
   },
   "source": [
    "## Haskell IDE\n",
    "\n",
    "---\n",
    "\n",
    "**Haskell Vim Now** [(Github)](https://github.com/begriffs/haskell-vim-now)\n",
    "\n",
    "![haskellvim](Pictures/center_hv.png)"
   ]
  },
  {
   "cell_type": "markdown",
   "metadata": {
    "slideshow": {
     "slide_type": "subslide"
    }
   },
   "source": [
    "* Install Vim & Tmux"
   ]
  },
  {
   "cell_type": "markdown",
   "metadata": {
    "slideshow": {
     "slide_type": "fragment"
    }
   },
   "source": [
    "* Install Haskell-Vim-Now\n",
    "\n",
    "```sh\n",
    "curl -L https://git.io/haskell-vim-now > /tmp/haskell-vim-now.sh\n",
    "bash /tmp/haskell-vim-now.sh\n",
    "```"
   ]
  },
  {
   "cell_type": "markdown",
   "metadata": {
    "slideshow": {
     "slide_type": "fragment"
    }
   },
   "source": [
    "* Install plugins of Axect\n",
    "\n",
    "```sh\n",
    "git clone https://github.com/Axect/Vim\n",
    "mv plugins.vim ~/.config/haskell-vim-now/plugins.vim\n",
    "vim +PlugInstall\n",
    "```"
   ]
  },
  {
   "cell_type": "markdown",
   "metadata": {
    "slideshow": {
     "slide_type": "fragment"
    }
   },
   "source": [
    "**But I love GUI**\n",
    "\n",
    "* Install Xed (XML Text Editor) - It supports conceal & smart indentation"
   ]
  },
  {
   "cell_type": "markdown",
   "metadata": {
    "slideshow": {
     "slide_type": "slide"
    }
   },
   "source": [
    "# Haskell Environment"
   ]
  },
  {
   "cell_type": "markdown",
   "metadata": {
    "slideshow": {
     "slide_type": "subslide"
    }
   },
   "source": [
    "## File Format\n",
    "\n",
    "---\n",
    "\n",
    ": 하스켈에는 크게 2가지 파일 형식이 있음"
   ]
  },
  {
   "cell_type": "markdown",
   "metadata": {
    "slideshow": {
     "slide_type": "fragment"
    }
   },
   "source": [
    "* `.hs` : 하스켈의 기본 파일 형식."
   ]
  },
  {
   "cell_type": "markdown",
   "metadata": {
    "slideshow": {
     "slide_type": "fragment"
    }
   },
   "source": [
    "* .lhs : Literate Haskell - 하도 코드가 짧아서 주석이 더 길어지는 바람에 주석이 메인인 형식이 등장."
   ]
  },
  {
   "cell_type": "markdown",
   "metadata": {
    "slideshow": {
     "slide_type": "fragment"
    }
   },
   "source": [
    "```hs\n",
    "-- hs 파일 (hello.hs)\n",
    "-- 다음 코드는 메인 함수입니다.\n",
    "main = print \"Hello, World!\"\n",
    "```"
   ]
  },
  {
   "cell_type": "markdown",
   "metadata": {
    "slideshow": {
     "slide_type": "fragment"
    }
   },
   "source": [
    "```lhs\n",
    "lhs 파일 (hello.lhs)\n",
    "다음 코드는 메인 함수입니다.\n",
    "> main = print \"Hello, World!\"\n",
    "```"
   ]
  },
  {
   "cell_type": "markdown",
   "metadata": {
    "slideshow": {
     "slide_type": "fragment"
    }
   },
   "source": [
    "* 실행방법:\n",
    "\n",
    "```sh\n",
    "runhaskell hello.hs\n",
    "```"
   ]
  },
  {
   "cell_type": "markdown",
   "metadata": {
    "slideshow": {
     "slide_type": "subslide"
    }
   },
   "source": [
    "## GHCi\n",
    "\n",
    "---\n",
    "\n",
    "* Python, Julia, Scala와 더불어 Haskell에서 지원하는 REPL (정확히는 ghc에서 제공하는)"
   ]
  },
  {
   "cell_type": "markdown",
   "metadata": {
    "slideshow": {
     "slide_type": "fragment"
    }
   },
   "source": [
    "* Read - Eval - Print Loop"
   ]
  },
  {
   "cell_type": "markdown",
   "metadata": {
    "slideshow": {
     "slide_type": "fragment"
    }
   },
   "source": [
    "* 다들 haskell-platform을 설치하였을테니 다음을 실행해봅시다."
   ]
  },
  {
   "cell_type": "markdown",
   "metadata": {
    "slideshow": {
     "slide_type": "fragment"
    }
   },
   "source": [
    "```sh\n",
    "ghci\n",
    "```"
   ]
  },
  {
   "cell_type": "markdown",
   "metadata": {
    "slideshow": {
     "slide_type": "fragment"
    }
   },
   "source": [
    "* 다음 창이 뜨면 성공\n",
    "\n",
    "```hs\n",
    "GHCi, version 8.0.2: http://www.haskell.org/ghc/  :? for help\n",
    "Prelude> \n",
    "```"
   ]
  },
  {
   "cell_type": "markdown",
   "metadata": {
    "slideshow": {
     "slide_type": "subslide"
    }
   },
   "source": [
    "### GHCi의 기능\n",
    "\n",
    "---\n",
    "\n",
    "* Type Estimation\n",
    "\n",
    "```hs\n",
    "Prelude> :t \"hello\"\n",
    "```"
   ]
  },
  {
   "cell_type": "markdown",
   "metadata": {
    "slideshow": {
     "slide_type": "fragment"
    }
   },
   "source": [
    "* 이렇게도 가능\n",
    "\n",
    "```hs\n",
    "Prelude> :set +t\n",
    "Prelude> \"hello\"\n",
    "```"
   ]
  },
  {
   "cell_type": "markdown",
   "metadata": {
    "slideshow": {
     "slide_type": "fragment"
    }
   },
   "source": [
    "* 시간측정 및 메모리 측정\n",
    "\n",
    "```hs\n",
    "Prelude> :set +s\n",
    "Prelude> print \"Hello\"\n",
    "```"
   ]
  },
  {
   "cell_type": "markdown",
   "metadata": {
    "slideshow": {
     "slide_type": "slide"
    }
   },
   "source": [
    "# 코드작성을 해보자"
   ]
  },
  {
   "cell_type": "markdown",
   "metadata": {
    "slideshow": {
     "slide_type": "subslide"
    }
   },
   "source": [
    "##  Hello, World!\n",
    "\n",
    "---\n",
    "\n",
    "* 이러면 되나.\n",
    "\n",
    "```hs\n",
    "-- (hello.hs)\n",
    "putStrLn \"Hello, World!\"\n",
    "```"
   ]
  },
  {
   "cell_type": "markdown",
   "metadata": {
    "slideshow": {
     "slide_type": "fragment"
    }
   },
   "source": [
    "* 이렇게 된다.\n",
    "\n",
    "```hs\n",
    "hello.hs:1:1: error:\n",
    "    Parse error: naked expression at top level\n",
    "    Perhaps you intended to use TemplateHaskell\n",
    "```"
   ]
  },
  {
   "cell_type": "markdown",
   "metadata": {
    "slideshow": {
     "slide_type": "fragment"
    }
   },
   "source": [
    "* 이러면 된다.\n",
    "\n",
    "```hs\n",
    "main = putStrLn \"Hello, World!\"\n",
    "```"
   ]
  },
  {
   "cell_type": "markdown",
   "metadata": {
    "slideshow": {
     "slide_type": "fragment"
    }
   },
   "source": [
    "* 뭔 차이임?\n",
    ": Haskell은 순수함수형 언어라 출력같은 괘씸한 부작용은 IO 모나드라는 것에서 처리. (몰라도 된다.)\n",
    "위의 코드는 사실 다음과 같음"
   ]
  },
  {
   "cell_type": "markdown",
   "metadata": {
    "slideshow": {
     "slide_type": "fragment"
    }
   },
   "source": [
    "```hs\n",
    "main :: IO ()\n",
    "main = putStrLn \"Hello, World!\"\n",
    "```"
   ]
  },
  {
   "cell_type": "markdown",
   "metadata": {
    "slideshow": {
     "slide_type": "fragment"
    }
   },
   "source": [
    "* 즉, `IO ()` 라고 적힌 곳에서만 프린트를 하든 파일을 쓰든 해야 되는 것. 안 써도 되는 이유는 하스켈이 자동 추론을 했기 때문"
   ]
  },
  {
   "cell_type": "markdown",
   "metadata": {
    "slideshow": {
     "slide_type": "subslide"
    }
   },
   "source": [
    "## Hello, World! (GHCi)\n",
    "\n",
    "---\n",
    "\n",
    "* 하지만 ghci에서는\n",
    "\n",
    "```hs\n",
    "Prelude> putStrLn \"Hello, World!\"\n",
    "```"
   ]
  },
  {
   "cell_type": "markdown",
   "metadata": {
    "slideshow": {
     "slide_type": "fragment"
    }
   },
   "source": [
    "* ghci는 `IO ()`가 기본으로 설정되어 있어서 출력 등등은 기본적으로 지원."
   ]
  },
  {
   "cell_type": "markdown",
   "metadata": {
    "slideshow": {
     "slide_type": "fragment"
    }
   },
   "source": [
    "* 하지만 두 줄 이상 입력할때가 스트레스\n",
    "\n",
    "```hs\n",
    "Prelude> :{\n",
    "Prelude|   a :: Int\n",
    "Prelude|   a = 2\n",
    "Prelude| :}\n",
    "```"
   ]
  },
  {
   "cell_type": "markdown",
   "metadata": {
    "slideshow": {
     "slide_type": "fragment"
    }
   },
   "source": [
    "* 방법은 Vim Slime + Tmux!\n",
    "    * `tmux`\n",
    "    * `C-b + % (Ctrl-b + %)`\n",
    "    * `vim hello.hs`\n",
    "    * 명령어 입력\n",
    "    * `C-c-c` 입력 (Ctrl누른 상태로 c 두번)\n",
    "    * default 선택\n",
    "    * 지우고 2를 치고 엔터"
   ]
  },
  {
   "cell_type": "markdown",
   "metadata": {
    "slideshow": {
     "slide_type": "subslide"
    }
   },
   "source": [
    "<img src=\"Pictures/vim-slime.gif\">"
   ]
  },
  {
   "cell_type": "markdown",
   "metadata": {
    "slideshow": {
     "slide_type": "slide"
    }
   },
   "source": [
    "# 이공계인의 희망 Julia"
   ]
  },
  {
   "cell_type": "markdown",
   "metadata": {
    "slideshow": {
     "slide_type": "subslide"
    }
   },
   "source": [
    "## Haskell은 교수님이 몰라요..\n",
    "\n",
    "---\n",
    "\n",
    "* 불행한 일이 아닐 수 없습니다. "
   ]
  },
  {
   "cell_type": "markdown",
   "metadata": {
    "slideshow": {
     "slide_type": "fragment"
    }
   },
   "source": [
    "* MATLAB쓰는데 함수형프로그래밍 의미 있나요? (By ㄱㅇㅇ씨)"
   ]
  },
  {
   "cell_type": "markdown",
   "metadata": {
    "slideshow": {
     "slide_type": "fragment"
    }
   },
   "source": [
    "* 놀라운 사실!"
   ]
  },
  {
   "cell_type": "markdown",
   "metadata": {
    "slideshow": {
     "slide_type": "fragment"
    }
   },
   "source": [
    "* MATLAB이 Haskell보다 6년이나 오래되었다. (1984)~~(빅브라더)~~"
   ]
  },
  {
   "cell_type": "markdown",
   "metadata": {
    "slideshow": {
     "slide_type": "fragment"
    }
   },
   "source": [
    "* 함수형 프로그래밍은 2018년에도 공학자들이 안 쓰는 판국에 그때 쓸리가 없다. "
   ]
  },
  {
   "cell_type": "markdown",
   "metadata": {
    "slideshow": {
     "slide_type": "fragment"
    }
   },
   "source": [
    "* 하지만 비슷한 Syntax에 함수형을 구겨넣은 2012년산 Julia가 출동한다면 어떨까!"
   ]
  },
  {
   "cell_type": "markdown",
   "metadata": {
    "slideshow": {
     "slide_type": "subslide"
    }
   },
   "source": [
    "## Julia Installation\n",
    "\n",
    "---\n",
    "\n",
    "* 리눅스 사용자들은 압축파일 받아서 풀면 됩니다.\n",
    "    * 압축파일을 받는다.\n",
    "    * `tar -xvf file.tar.gz`\n",
    "    * `sudo ln -s file/bin/julia /usr/local/bin/julia`"
   ]
  },
  {
   "cell_type": "markdown",
   "metadata": {
    "slideshow": {
     "slide_type": "fragment"
    }
   },
   "source": [
    "* Windows나 Mac유저는 알아서.. (Mac 극혐!)"
   ]
  },
  {
   "cell_type": "markdown",
   "metadata": {
    "slideshow": {
     "slide_type": "subslide"
    }
   },
   "source": [
    "## Julia Execution\n",
    "\n",
    "---\n",
    "\n",
    "* Julia 의 실행은 너무나 간단합니다."
   ]
  },
  {
   "cell_type": "markdown",
   "metadata": {
    "slideshow": {
     "slide_type": "fragment"
    }
   },
   "source": [
    "```sh\n",
    "julia\n",
    "```"
   ]
  },
  {
   "cell_type": "markdown",
   "metadata": {
    "slideshow": {
     "slide_type": "fragment"
    }
   },
   "source": [
    "```julia\n",
    "println(\"Hello, World!\")\n",
    "```"
   ]
  },
  {
   "cell_type": "markdown",
   "metadata": {
    "slideshow": {
     "slide_type": "subslide"
    }
   },
   "source": [
    "### 내가 짠 Julia는 Python/MATLAB 보다 느리던데..\n",
    "\n",
    "---\n",
    "\n",
    "* ...할 말이 없다."
   ]
  },
  {
   "cell_type": "markdown",
   "metadata": {
    "slideshow": {
     "slide_type": "fragment"
    }
   },
   "source": [
    "* 오죽하면 Julia 개발진들이 소개글에 대놓고 적어놓았다. [(Julia 0.7)](https://juliakorea.github.io/ko/latest/manual/introduction/#man-introduction-1)"
   ]
  },
  {
   "cell_type": "markdown",
   "metadata": {
    "slideshow": {
     "slide_type": "fragment"
    }
   },
   "source": [
    "* Julia는 함수형 패러다임도 포함하는 다중 패러다임 언어. 고로 공대생들은 Haskell이 안되면 Julia라도 하자."
   ]
  },
  {
   "cell_type": "markdown",
   "metadata": {
    "slideshow": {
     "slide_type": "slide"
    }
   },
   "source": [
    "# Basic Haskell Syntax"
   ]
  },
  {
   "cell_type": "markdown",
   "metadata": {
    "slideshow": {
     "slide_type": "subslide"
    }
   },
   "source": [
    "## 이제 환경 구축은 지겹다!\n",
    "\n",
    "---\n",
    "\n",
    "* 본격적으로 코딩해봅시다."
   ]
  },
  {
   "cell_type": "markdown",
   "metadata": {
    "slideshow": {
     "slide_type": "subslide"
    }
   },
   "source": [
    "## Haskell in 5 minutes\n",
    "\n",
    "---\n",
    "\n",
    "* 하스켈의 기본문법은 무진장 쉽습니다."
   ]
  },
  {
   "cell_type": "markdown",
   "metadata": {
    "slideshow": {
     "slide_type": "fragment"
    }
   },
   "source": [
    "* 타입 선언 (`Int, Integer, Float, Double, Char, String`)\n",
    "\n",
    "```hs\n",
    "a :: Int\n",
    "a = 1\n",
    "```"
   ]
  },
  {
   "cell_type": "markdown",
   "metadata": {
    "slideshow": {
     "slide_type": "fragment"
    }
   },
   "source": [
    "* 함수 선언 (`->`) (함수는 괄호를 써도 되지만 보통은 띄어쓰기로 함수와 인자를 표시합니다.)\n",
    "\n",
    "```hs\n",
    "f :: Int -> Int\n",
    "f x = x + 1\n",
    "```"
   ]
  },
  {
   "cell_type": "markdown",
   "metadata": {
    "slideshow": {
     "slide_type": "subslide"
    }
   },
   "source": [
    "* 패턴매칭 1\n",
    "\n",
    "```hs\n",
    "fib :: Int -> Int\n",
    "fib 1 = 1\n",
    "fib 2 = 1\n",
    "fib n = fib(n-1) + fib(n-2)\n",
    "```"
   ]
  },
  {
   "cell_type": "markdown",
   "metadata": {
    "slideshow": {
     "slide_type": "fragment"
    }
   },
   "source": [
    "* 패턴매칭 2 (Guard)\n",
    "\n",
    "```hs\n",
    "diracDelta :: Double -> Double\n",
    "diracDelta x | x==0 = 1/0\n",
    "             | otherwise = 0\n",
    "```"
   ]
  },
  {
   "cell_type": "markdown",
   "metadata": {
    "slideshow": {
     "slide_type": "fragment"
    }
   },
   "source": [
    "* `if`도 있습니다.\n",
    "\n",
    "```hs\n",
    "diracDelta' :: Double -> Double\n",
    "diracDelta' x = if x==0 then 1/0 else 0\n",
    "```"
   ]
  },
  {
   "cell_type": "markdown",
   "metadata": {
    "slideshow": {
     "slide_type": "subslide"
    }
   },
   "source": [
    "* 수학적 언어라면 역시 `let`과 `where`은 필수입니다.\n",
    "\n",
    "```hs\n",
    "diracDelta :: Double -> Double\n",
    "diracDelta x = let inf = 1/0 in if x==0 then inf else 0\n",
    "diracDelta' x = if x==0 then inf else 0 where inf = 1/0\n",
    "```"
   ]
  },
  {
   "cell_type": "markdown",
   "metadata": {
    "slideshow": {
     "slide_type": "fragment"
    }
   },
   "source": [
    "* 보통의 수학 함수들이나 상수는 내장되어 있습니다.\n",
    "\n",
    "```hs\n",
    "one x = (sin x)**2 + (cos x)**2\n",
    "```"
   ]
  },
  {
   "cell_type": "markdown",
   "metadata": {
    "slideshow": {
     "slide_type": "fragment"
    }
   },
   "source": [
    "* 아 참고로 제곱 연산자와 나누기 연산자는 정수와 소수가 다릅니다.\n",
    "\n",
    "```haskell\n",
    "3 / 4 /= div 3 4\n",
    "2^4 /= 2**4\n",
    "```"
   ]
  },
  {
   "cell_type": "markdown",
   "metadata": {
    "slideshow": {
     "slide_type": "fragment"
    }
   },
   "source": [
    "* Syntactic Sugar로 이항연산자를 재밌게 바꿀 수 있습니다.\n",
    "\n",
    "```hs\n",
    "div 3 4 == 3 `div` 4\n",
    "mod 5 2 == 5 `mod` 2\n",
    "```"
   ]
  },
  {
   "cell_type": "markdown",
   "metadata": {
    "slideshow": {
     "slide_type": "fragment"
    }
   },
   "source": [
    "* 더하기나 곱하기도 모두 문법적 설탕이었습니다.\n",
    "\n",
    "```hs\n",
    "3 + 4 == (+) 3 4\n",
    "3 * 4 == (*) 3 4\n",
    "3 / 4 == (/) 3 4\n",
    "```"
   ]
  },
  {
   "cell_type": "markdown",
   "metadata": {
    "slideshow": {
     "slide_type": "subslide"
    }
   },
   "source": [
    "* C나 Java에서 채용한 Generic 개념도 모두 출발은 Haskell입니다.\n",
    "\n",
    "```haskell\n",
    "-- In GHCi\n",
    "Prelude> :t (++) -- [a] -> [a] -> [a]\n",
    "-- a로 이루어진 List 두개를 순차적으로 받아 a로 이루어진 List를 반환 (a는 정수, 소수 등등)\n",
    "```"
   ]
  },
  {
   "cell_type": "markdown",
   "metadata": {
    "slideshow": {
     "slide_type": "fragment"
    }
   },
   "source": [
    "* Haskell은 더 나아가 Type Class를 지정합니다.\n",
    "\n",
    "```hs\n",
    "-- In GHCi\n",
    "Prelude> :t (+) -- Num a => a -> a -> a\n",
    "-- 숫자인 a에 대해서 a 두개를 순차적으로 받아 a를 반환\n",
    "```"
   ]
  },
  {
   "cell_type": "markdown",
   "metadata": {
    "slideshow": {
     "slide_type": "fragment"
    }
   },
   "source": [
    "* Type Class에는 여러가지가 있습니다. (정수, 소수 등)\n",
    "\n",
    "```hs\n",
    "-- In GHCi\n",
    "Prelude> :t (^)\n",
    "Prelude> :t (**)\n",
    "```"
   ]
  },
  {
   "cell_type": "markdown",
   "metadata": {
    "slideshow": {
     "slide_type": "subslide"
    }
   },
   "source": [
    "* 대망의 Lambda! (익명함수를 의미합니다.)\n",
    "\n",
    "```hs\n",
    "f x = x + 1\n",
    "map f [1,2,3]\n",
    "```"
   ]
  },
  {
   "cell_type": "markdown",
   "metadata": {
    "slideshow": {
     "slide_type": "fragment"
    }
   },
   "source": [
    "* 이걸 두 줄이나 쳐야 돼?"
   ]
  },
  {
   "cell_type": "markdown",
   "metadata": {
    "slideshow": {
     "slide_type": "fragment"
    }
   },
   "source": [
    "```hs\n",
    "map (\\x -> x + 1) [1,2,3]\n",
    "```"
   ]
  },
  {
   "cell_type": "markdown",
   "metadata": {
    "slideshow": {
     "slide_type": "fragment"
    }
   },
   "source": [
    "* 편-안"
   ]
  },
  {
   "cell_type": "markdown",
   "metadata": {
    "slideshow": {
     "slide_type": "slide"
    }
   },
   "source": [
    "# WTF"
   ]
  },
  {
   "cell_type": "markdown",
   "metadata": {
    "slideshow": {
     "slide_type": "fragment"
    }
   },
   "source": [
    "## Wonderful & Thrilling Functional programming"
   ]
  },
  {
   "cell_type": "markdown",
   "metadata": {
    "slideshow": {
     "slide_type": "subslide"
    }
   },
   "source": [
    "## Static + FP = Great!\n",
    "\n",
    "---\n",
    "\n",
    "* 함수형 프로그래밍의 장점은 순수, 즉, `input`이 같으면 `output`이 항상 동일"
   ]
  },
  {
   "cell_type": "markdown",
   "metadata": {
    "slideshow": {
     "slide_type": "fragment"
    }
   },
   "source": [
    "* 그렇다면 `input`과 `output`의 타입만 기재해도 자동적으로 함수가 나오지 않을까?"
   ]
  },
  {
   "cell_type": "markdown",
   "metadata": {
    "slideshow": {
     "slide_type": "fragment"
    }
   },
   "source": [
    "* 첫 번째 예시 : 부분함수\n",
    "\n",
    "```hs\n",
    "partial :: a -> ((a, b) -> c) -> (b -> c)\n",
    "partial a f = ?\n",
    "```"
   ]
  },
  {
   "cell_type": "markdown",
   "metadata": {
    "slideshow": {
     "slide_type": "fragment"
    }
   },
   "source": [
    "깨달음: a와, a와 b를 받아 c를 내뱉는 함수를 받아서, b에서 c로 가는 함수를 뱉는 함수구나!"
   ]
  },
  {
   "cell_type": "markdown",
   "metadata": {
    "slideshow": {
     "slide_type": "fragment"
    }
   },
   "source": [
    "```hs\n",
    "partial a f = \\b -> f (a, b)\n",
    "```"
   ]
  },
  {
   "cell_type": "markdown",
   "metadata": {
    "slideshow": {
     "slide_type": "subslide"
    }
   },
   "source": [
    "* 예시는 하나로 충분! 문제를 풀어보자\n",
    "\n",
    "```hs\n",
    "curry' :: ((a,b) -> c) -> a -> (b -> c)\n",
    "curry' f = ?\n",
    "```"
   ]
  },
  {
   "cell_type": "markdown",
   "metadata": {
    "slideshow": {
     "slide_type": "fragment"
    }
   },
   "source": [
    "* 정답공개!"
   ]
  },
  {
   "cell_type": "markdown",
   "metadata": {
    "slideshow": {
     "slide_type": "fragment"
    }
   },
   "source": [
    "```hs\n",
    "curry' f = \\a -> (\\b -> f (a, b))\n",
    "```"
   ]
  },
  {
   "cell_type": "markdown",
   "metadata": {
    "slideshow": {
     "slide_type": "fragment"
    }
   },
   "source": [
    "* 즉, 정적타입을 선언해놓으면 단순한 경우에 함수가 거의 Unique하게 결정 `->`m 내가 뭘 구현할지만 선언하면 방법은 따라옴"
   ]
  },
  {
   "cell_type": "markdown",
   "metadata": {
    "slideshow": {
     "slide_type": "subslide"
    }
   },
   "source": [
    "* 두 번째 문제!\n",
    "\n",
    "```hs\n",
    "compose (b -> c) -> (a -> b) -> a -> c\n",
    "compose f g = ?\n",
    "```"
   ]
  },
  {
   "cell_type": "markdown",
   "metadata": {
    "slideshow": {
     "slide_type": "fragment"
    }
   },
   "source": [
    "* 정답공개!"
   ]
  },
  {
   "cell_type": "markdown",
   "metadata": {
    "slideshow": {
     "slide_type": "fragment"
    }
   },
   "source": [
    "```hs\n",
    "compose f g = \\x -> f(g(x))\n",
    "```"
   ]
  },
  {
   "cell_type": "markdown",
   "metadata": {
    "slideshow": {
     "slide_type": "fragment"
    }
   },
   "source": [
    "* 근데 함수 합성은 하도 많이 하니 그냥 default로 줌\n",
    "\n",
    "```hs\n",
    "(sin . cos) (pi/2)\n",
    "```"
   ]
  },
  {
   "cell_type": "markdown",
   "metadata": {
    "slideshow": {
     "slide_type": "subslide"
    }
   },
   "source": [
    "## 이 시각 Julia는?\n",
    "\n",
    "---\n",
    "\n",
    "* Julia에도 위의 것들이 구현되어 있나? 혹은 구현할 수 있나?\n"
   ]
  },
  {
   "cell_type": "markdown",
   "metadata": {
    "slideshow": {
     "slide_type": "fragment"
    }
   },
   "source": [
    "* 물논!"
   ]
  },
  {
   "cell_type": "markdown",
   "metadata": {
    "slideshow": {
     "slide_type": "subslide"
    }
   },
   "source": [
    "* Partial\n",
    "\n",
    "```julia\n",
    "partial(a, f) = b -> f(a, b)\n",
    "curry\n",
    "```"
   ]
  },
  {
   "cell_type": "markdown",
   "metadata": {
    "slideshow": {
     "slide_type": "fragment"
    }
   },
   "source": [
    "* Curry\n",
    "\n",
    "```julia\n",
    "curry(f) = a -> (b -> f(a, b))\n",
    "```"
   ]
  },
  {
   "cell_type": "markdown",
   "metadata": {
    "slideshow": {
     "slide_type": "fragment"
    }
   },
   "source": [
    "* 타입 선언이 안된다는 단점이 있는데, Haskell로 공부하다보면 걍 익숙해지니 상관없음\n",
    "* Haskell로 Prototype을 짠 후 Julia로 Porting하는 것도 쉬움"
   ]
  },
  {
   "cell_type": "markdown",
   "metadata": {
    "slideshow": {
     "slide_type": "subslide"
    }
   },
   "source": [
    "## Functional Data Structure"
   ]
  },
  {
   "cell_type": "markdown",
   "metadata": {
    "slideshow": {
     "slide_type": "subslide"
    }
   },
   "source": [
    "## Immutable\n",
    "\n",
    "---\n",
    "\n",
    "* 함수적 자료구조는 정의에 의해 불변 (Immutable) `->` 배열 역시 정수 값 3이나 4처럼 영원히 불변이 값!"
   ]
  },
  {
   "cell_type": "markdown",
   "metadata": {
    "slideshow": {
     "slide_type": "fragment"
    }
   },
   "source": [
    "* 아니 불변인데 어떻게 배열의 값을 넣고 자료구조에 자료를 담을 수 있나?"
   ]
  },
  {
   "cell_type": "markdown",
   "metadata": {
    "slideshow": {
     "slide_type": "fragment"
    }
   },
   "source": [
    "* 1930년대부터 (컴퓨터도 없던 시절) 연구되어 왔으니 일단 한 번 써봅시다 "
   ]
  },
  {
   "cell_type": "markdown",
   "metadata": {
    "slideshow": {
     "slide_type": "subslide"
    }
   },
   "source": [
    "## Haskell에서의 Data 선언법\n",
    "\n",
    "---\n",
    "\n",
    "* data 명령어는 자료구조를 생성합니다. Haskell에서는 자료구조를 ADT (Algebraic Data Structure)라고 합니다."
   ]
  },
  {
   "cell_type": "markdown",
   "metadata": {
    "slideshow": {
     "slide_type": "fragment"
    }
   },
   "source": [
    "* 가장 간단한 예시인 자연수를 만들어 봅시다."
   ]
  },
  {
   "cell_type": "markdown",
   "metadata": {
    "slideshow": {
     "slide_type": "subslide"
    }
   },
   "source": [
    "```hs\n",
    "data Nat = Zero | Succ Nat\n",
    "```"
   ]
  },
  {
   "cell_type": "markdown",
   "metadata": {
    "slideshow": {
     "slide_type": "fragment"
    }
   },
   "source": [
    "* 자연수가 만들어졌지만 우린 이것으로 비교도 못하고 보지도 못합니다."
   ]
  },
  {
   "cell_type": "markdown",
   "metadata": {
    "slideshow": {
     "slide_type": "fragment"
    }
   },
   "source": [
    "```hs\n",
    "instance Eq Nat where\n",
    "    Zero == Zero = True\n",
    "    Zero == Succ n = False\n",
    "    Succ m == Zero = False\n",
    "    Succ m == Succ n = (m == n)\n",
    "    \n",
    "instance Show Nat where\n",
    "    show Zero = \"Zero\"\n",
    "    show (Succ Zero) = \"Succ Zero\"\n",
    "    show (Succ (Succ n)) = \"Succ (\" ++ show (Succ n) ++ \")\"\n",
    "```"
   ]
  },
  {
   "cell_type": "markdown",
   "metadata": {
    "slideshow": {
     "slide_type": "fragment"
    }
   },
   "source": [
    "* 드디어 비교 가능하고 볼 수 있게 되었지만, 극혐입니다. 하지만 Haskell은 충분히 똑똑합니다."
   ]
  },
  {
   "cell_type": "markdown",
   "metadata": {
    "slideshow": {
     "slide_type": "fragment"
    }
   },
   "source": [
    "```hs\n",
    "data Nat = Zero | Succ Nat deriving (Eq,Ord,Show)\n",
    "```"
   ]
  },
  {
   "cell_type": "markdown",
   "metadata": {
    "slideshow": {
     "slide_type": "fragment"
    }
   },
   "source": [
    "* 하지만 여전히 더하기나 곱하기 등의 숫자 연산은 못합니다."
   ]
  },
  {
   "cell_type": "markdown",
   "metadata": {
    "slideshow": {
     "slide_type": "subslide"
    }
   },
   "source": [
    "```hs\n",
    "instance Num Nat where\n",
    "    m + Zero   = m\n",
    "    m + Succ n = Succ (m + n)\n",
    "    \n",
    "    m * Zero     = Zero\n",
    "    m * (Succ n) = m*n + m\n",
    "    \n",
    "    abs n           = n\n",
    "    signum Zero     = Zero\n",
    "    signum (Succ n) = Succ Zero\n",
    "    \n",
    "    m - Zero        = m\n",
    "    Zero - Succ n   = Zero\n",
    "    Succ m - Succ n = m - n\n",
    "    \n",
    "    fromInteger x | x<=0      = Zero\n",
    "                  | otherwise = Succ (fromInteger (x-1))\n",
    "```"
   ]
  },
  {
   "cell_type": "markdown",
   "metadata": {
    "slideshow": {
     "slide_type": "fragment"
    }
   },
   "source": [
    "* 이제 자연수의 모든 것은 끝났습니다. 시험을 해보죠"
   ]
  },
  {
   "cell_type": "markdown",
   "metadata": {
    "slideshow": {
     "slide_type": "subslide"
    }
   },
   "source": [
    "```hs\n",
    "1 == Succ Zero\n",
    "\n",
    "Succ 1\n",
    "\n",
    "Succ 5\n",
    "\n",
    "Succ 2 + Succ 3\n",
    "\n",
    "2 + Succ 3\n",
    "```"
   ]
  },
  {
   "cell_type": "markdown",
   "metadata": {
    "slideshow": {
     "slide_type": "fragment"
    }
   },
   "source": [
    "* 무한대도 정의할 수 있습니다.\n",
    "\n",
    "```hs\n",
    "infinity = Succ infinity\n",
    "```"
   ]
  },
  {
   "cell_type": "markdown",
   "metadata": {
    "slideshow": {
     "slide_type": "fragment"
    }
   },
   "source": [
    "* 이래서 `a = a + 1` 하면 큰일나요."
   ]
  },
  {
   "cell_type": "markdown",
   "metadata": {
    "slideshow": {
     "slide_type": "subslide"
    }
   },
   "source": [
    "## 자료구조의 꽃 List\n",
    "\n",
    "---\n",
    "\n",
    "* 자료구조를 생성해서 사용하기는 어려움 `->` 있는 구조를 활용하자. `->` 가장 기본적인 자료구조는 연결리스트!"
   ]
  },
  {
   "cell_type": "markdown",
   "metadata": {
    "slideshow": {
     "slide_type": "fragment"
    }
   },
   "source": [
    "* 불변인데 배열생성이 가능? `->` 커버를 씌우면 됨! (휴대폰에 케이스하나 씌운다고 휴대폰이 변한건아님)"
   ]
  },
  {
   "cell_type": "markdown",
   "metadata": {
    "slideshow": {
     "slide_type": "fragment"
    }
   },
   "source": [
    "* 자연수처럼 List도 아예 정의해보자"
   ]
  },
  {
   "cell_type": "markdown",
   "metadata": {
    "slideshow": {
     "slide_type": "subslide"
    }
   },
   "source": [
    "```hs\n",
    "data List a = Nil | Cons a (List a) deriving (Show)\n",
    "```"
   ]
  },
  {
   "cell_type": "markdown",
   "metadata": {
    "slideshow": {
     "slide_type": "fragment"
    }
   },
   "source": [
    "* 너무 어이없게 끝났다. 하지만 이렇게 쓰면 `[1,2,3,4,5]` 쓰는 데만 해도 엄청 오래 걸릴 것이다."
   ]
  },
  {
   "cell_type": "markdown",
   "metadata": {
    "slideshow": {
     "slide_type": "fragment"
    }
   },
   "source": [
    "* 당연하게도 Haskell에는 내장된 List 자료형이 존재한다."
   ]
  },
  {
   "cell_type": "markdown",
   "metadata": {
    "slideshow": {
     "slide_type": "subslide"
    }
   },
   "source": [
    "* List는 그냥 List 쓰듯이 선언하면 됩니다. 성분을 추출하려면 `!!` 쓰면 됩니다.\n",
    "\n",
    "```hs\n",
    "a = [1,2,3,4,5]\n",
    "a!!0 -- 1\n",
    "```"
   ]
  },
  {
   "cell_type": "markdown",
   "metadata": {
    "slideshow": {
     "slide_type": "fragment"
    }
   },
   "source": [
    "* List 앞에 원소를 추가하는 것은 `(:)`를 사용\n",
    "\n",
    "```hs\n",
    "a = [1..5] -- ..은 공짜로 채워줍니다.\n",
    "b = 0:a\n",
    "```"
   ]
  },
  {
   "cell_type": "markdown",
   "metadata": {
    "slideshow": {
     "slide_type": "fragment"
    }
   },
   "source": [
    "* 뒤에 원소를 추가하려면 List로 만든 뒤 `(++)`를 사용\n",
    "\n",
    "```hs\n",
    "a = [1..5]\n",
    "b = a ++ [6]\n",
    "```"
   ]
  },
  {
   "cell_type": "markdown",
   "metadata": {
    "slideshow": {
     "slide_type": "subslide"
    }
   },
   "source": [
    "### 그래서 이게 뭐가 좋음?\n",
    "\n",
    "---\n",
    "\n",
    "* 언뜻보면 List만들어놓고 변경하는 것보다 새로 생성하는 꼴이니 느려보이는데?"
   ]
  },
  {
   "cell_type": "markdown",
   "metadata": {
    "slideshow": {
     "slide_type": "fragment"
    }
   },
   "source": [
    "* 간단히 두 리스트를 병합해봅시다."
   ]
  },
  {
   "cell_type": "markdown",
   "metadata": {
    "slideshow": {
     "slide_type": "fragment"
    }
   },
   "source": [
    "```hs\n",
    "a = [1..100]\n",
    "b = [1..10000]\n",
    "c = a ++ b\n",
    "```"
   ]
  },
  {
   "cell_type": "markdown",
   "metadata": {
    "slideshow": {
     "slide_type": "fragment"
    }
   },
   "source": [
    ": 여기서 일어나는 일을 보자면, `a = Cons (1 Cons (.. Cons (100, Nil))..)` 이었는데 이때, `Nil`자리에 `b`의 맨 앞을 이으면 끝이므로 `b`의 길이는 아무런 영향을 주지 않는다. 즉, $\\mathcal{O}(1)$의 속도를 발휘. "
   ]
  },
  {
   "cell_type": "markdown",
   "metadata": {
    "slideshow": {
     "slide_type": "fragment"
    }
   },
   "source": [
    "반대로 객체지향에서는 연속된 메모리 배치를 사용하기때문에 한 쪽의 메모리 전부를 들어내어 다른 쪽에 갖다 붙여야 한다. 이 과정에서 List가 할당된 공간의 메모리한도를 넘어서면 모두 들어서 새로운 공간으로 옮겨야 하기에 비용이 많이 든다."
   ]
  },
  {
   "cell_type": "markdown",
   "metadata": {
    "slideshow": {
     "slide_type": "fragment"
    }
   },
   "source": [
    "* 하지만 성능개선은 함수형 자료구조의 장점 중에서 미약한 편. 더욱 중요한 것이 있는데.."
   ]
  },
  {
   "cell_type": "markdown",
   "metadata": {
    "slideshow": {
     "slide_type": "subslide"
    }
   },
   "source": [
    "## 진정한 패턴매칭은 List 부터\n",
    "\n",
    "---\n",
    "\n",
    "* 지금까지의 패턴매칭은 장난 수준"
   ]
  },
  {
   "cell_type": "markdown",
   "metadata": {
    "slideshow": {
     "slide_type": "fragment"
    }
   },
   "source": [
    "* 함수형 자료구조를 쓰는 시점부터 진정한 패턴매칭이 실현됨"
   ]
  },
  {
   "cell_type": "markdown",
   "metadata": {
    "slideshow": {
     "slide_type": "fragment"
    }
   },
   "source": [
    "* 간단히 예시를 몇 개 봅시다."
   ]
  },
  {
   "cell_type": "markdown",
   "metadata": {
    "slideshow": {
     "slide_type": "subslide"
    }
   },
   "source": [
    "_문제1 : 1에서 1000000까지 모두 더하시오_"
   ]
  },
  {
   "cell_type": "markdown",
   "metadata": {
    "slideshow": {
     "slide_type": "fragment"
    }
   },
   "source": [
    "* 보통 Python러 라면 다음과 같이 짭니다.\n",
    "\n",
    "```python\n",
    "s = 0\n",
    "for i in range(1,1000001):\n",
    "    s += i\n",
    "print s\n",
    "```"
   ]
  },
  {
   "cell_type": "markdown",
   "metadata": {
    "slideshow": {
     "slide_type": "fragment"
    }
   },
   "source": [
    "* 보통 C러라면 다음과 같이 짜겠죠\n",
    "\n",
    "```c\n",
    "#include <stdio.h>\n",
    "int main()\n",
    "{\n",
    "    int i, sum = 0;\n",
    "\n",
    "    for(i=1; i <= 1000000; ++i)\n",
    "    {\n",
    "        sum += i;   // sum = sum+i;\n",
    "    }\n",
    "\n",
    "    printf(\"Sum = %d\",sum);\n",
    "\n",
    "    return 0;\n",
    "}\n",
    "```"
   ]
  },
  {
   "cell_type": "markdown",
   "metadata": {
    "slideshow": {
     "slide_type": "subslide"
    }
   },
   "source": [
    "* 보통 Matlab러라면 다음과 같이 짭니다.\n",
    "\n",
    "```matlab\n",
    "s = 0;\n",
    "for i = 1:1000000\n",
    "    s = s + i;\n",
    "end\n",
    "```"
   ]
  },
  {
   "cell_type": "markdown",
   "metadata": {
    "slideshow": {
     "slide_type": "fragment"
    }
   },
   "source": [
    "* 보통 Julia러라면 다음과 같이 짜겠죠\n",
    "\n",
    "```julia\n",
    "s = 0\n",
    "for i = 1:1000000\n",
    "    s += i\n",
    "end\n",
    "```"
   ]
  },
  {
   "cell_type": "markdown",
   "metadata": {
    "slideshow": {
     "slide_type": "subslide"
    }
   },
   "source": [
    "* 우린 Haskell 입문자니 내장함수를 모른다 치고 만들어봅시다."
   ]
  },
  {
   "cell_type": "markdown",
   "metadata": {
    "slideshow": {
     "slide_type": "fragment"
    }
   },
   "source": [
    "```hs\n",
    "sum' :: Num a => [a] -> a\n",
    "```\n",
    "일단 `sum'` 함수는 더할 수 있어야 하니 `Numeric`에서 가져와야 합니다. List를 넣으면 그걸 모두 더해서 숫자로 만들테니 `[a] -> a`여야 겠죠."
   ]
  },
  {
   "cell_type": "markdown",
   "metadata": {
    "slideshow": {
     "slide_type": "fragment"
    }
   },
   "source": [
    "```hs\n",
    "sum' (x:xs) = x + sum' xs\n",
    "```\n",
    "아까 말했듯이 List는 머리와 꼬리로 나누어지는데 머리를 더하면서 꼬리로 재귀를 하면 그냥 완성입니다. 하지만 이건 오류가 분명히 뜹니다. 마지막 꼬리에 대해서 말을 안 해줬거든요."
   ]
  },
  {
   "cell_type": "markdown",
   "metadata": {
    "slideshow": {
     "slide_type": "fragment"
    }
   },
   "source": [
    "```hs\n",
    "sum' :: Num a => [a] -> a\n",
    "sum' []     = 0\n",
    "sum' (x:xs) = x + sum' xs\n",
    "```\n",
    "끝은 빈 리스트일 것이므로 (`Cons (a, Nil)`) 그것에 대한 값을 정의해줍시다. 그럼 재귀를 하다가 마지막 빈 리스트를 만나면 그대로 0으로 나오므로 그 전까지의 모든 값을 더한 값이 나올 것입니다."
   ]
  },
  {
   "cell_type": "markdown",
   "metadata": {
    "slideshow": {
     "slide_type": "subslide"
    }
   },
   "source": [
    "### 너무 길어요\n",
    "\n",
    "---\n",
    "\n",
    "* Haskell은 대부분의 경우 한 줄로 치환 가능합니다."
   ]
  },
  {
   "cell_type": "markdown",
   "metadata": {
    "slideshow": {
     "slide_type": "fragment"
    }
   },
   "source": [
    "```hs\n",
    "sum' (x:xs) = if xs==[] then x else (x + sum' xs)\n",
    "```"
   ]
  },
  {
   "cell_type": "markdown",
   "metadata": {
    "slideshow": {
     "slide_type": "subslide"
    }
   },
   "source": [
    "_문제2: 1부터 1000000 까지 곱하는 코드를 작성하시오_"
   ]
  },
  {
   "cell_type": "markdown",
   "metadata": {
    "slideshow": {
     "slide_type": "fragment"
    }
   },
   "source": [
    "* 이건 여러분이 할 수 있을 것 같네요. `prod'` 코드를 짜주세요."
   ]
  },
  {
   "cell_type": "markdown",
   "metadata": {
    "slideshow": {
     "slide_type": "fragment"
    }
   },
   "source": [
    "* 대충 이렇게 짜면 되겠죠\n",
    "\n",
    "```hs\n",
    "prod' (x:xs) = if xs==[] then 1 else (x * prod' xs)\n",
    "```"
   ]
  },
  {
   "cell_type": "markdown",
   "metadata": {
    "slideshow": {
     "slide_type": "subslide"
    }
   },
   "source": [
    "## 궁극의 함수 : Map\n",
    "\n",
    "---\n",
    "\n",
    "* 함수형 언어에서 `map`이 없으면 시체"
   ]
  },
  {
   "cell_type": "markdown",
   "metadata": {
    "slideshow": {
     "slide_type": "fragment"
    }
   },
   "source": [
    "* 함수와 리스트를 받아서 그 함수를 그 리스트의 모든 원소에 적용시켜 새로운 리스트를 생성하는 함수입니다."
   ]
  },
  {
   "cell_type": "markdown",
   "metadata": {
    "slideshow": {
     "slide_type": "fragment"
    }
   },
   "source": [
    "* `for` 문이 없는 함수형 언어에 한 줄기 빛과 같은 함수!"
   ]
  },
  {
   "cell_type": "markdown",
   "metadata": {
    "slideshow": {
     "slide_type": "fragment"
    }
   },
   "source": [
    "* 이제 대충 공부들이 되셨을테니 `map'`을 구현해보세요.\n",
    "\n",
    "```hs\n",
    "map' :: (a -> b) -> [a] -> [b]\n",
    "map' f (x:xs) = ?\n",
    "```"
   ]
  },
  {
   "cell_type": "markdown",
   "metadata": {
    "slideshow": {
     "slide_type": "slide"
    }
   },
   "source": [
    "# 오늘은 여기까지!"
   ]
  },
  {
   "cell_type": "markdown",
   "metadata": {
    "slideshow": {
     "slide_type": "fragment"
    }
   },
   "source": [
    "## 수고하셨습니다!"
   ]
  }
 ],
 "metadata": {
  "celltoolbar": "Slideshow",
  "kernelspec": {
   "display_name": "Haskell",
   "language": "haskell",
   "name": "haskell"
  },
  "language_info": {
   "codemirror_mode": "ihaskell",
   "file_extension": ".hs",
   "name": "haskell",
   "version": "8.2.2"
  }
 },
 "nbformat": 4,
 "nbformat_minor": 2
}
