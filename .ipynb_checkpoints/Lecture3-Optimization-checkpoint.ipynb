{
 "cells": [
  {
   "cell_type": "markdown",
   "metadata": {
    "slideshow": {
     "slide_type": "slide"
    }
   },
   "source": [
    "# Functional Programming\n",
    "<br />\n",
    "\n",
    "## Advantage of FP & Laziness\n",
    "\n",
    "#### Axect"
   ]
  },
  {
   "cell_type": "markdown",
   "metadata": {
    "slideshow": {
     "slide_type": "subslide"
    }
   },
   "source": [
    "<p style=\"text-align:center\"><b>Refer to \"Kansu Programming Jissen Nyumon\"\n",
    "    <br />\"하스켈로 배우는 함수형 프로그래밍\"</b></p>"
   ]
  },
  {
   "cell_type": "markdown",
   "metadata": {
    "slideshow": {
     "slide_type": "fragment"
    }
   },
   "source": [
    "<p style=\"text-align:center\">꼭 읽어보세요. 한 권으로 마스터 가능</p>"
   ]
  },
  {
   "cell_type": "markdown",
   "metadata": {
    "slideshow": {
     "slide_type": "subslide"
    }
   },
   "source": [
    "** - Table of Contents**\n",
    "* 했던 말 좀 더 하기\n",
    "* 종류 및 역사 (Revisited)\n",
    "* Haskell 기초 (그냥 프로그래밍 공부)\n",
    "* ~~한국식 교육은 문법부터 (함수부터 재귀까지)~~\n",
    "* ~~재귀를 끝내러 왔다! (고차함수)~~\n",
    "* 베짱이는 개미를 이길 수도 있다! (Laziness)\n",
    "* 선천적인 게으름뱅이 = 쉬운 성능튜닝!"
   ]
  },
  {
   "cell_type": "markdown",
   "metadata": {
    "slideshow": {
     "slide_type": "slide"
    }
   },
   "source": [
    "## 했던 말 좀 더 하기\n",
    "<br />\n",
    "\n",
    "### - 함수형 프로그래밍의 실리적 측면"
   ]
  },
  {
   "cell_type": "markdown",
   "metadata": {
    "slideshow": {
     "slide_type": "subslide"
    }
   },
   "source": [
    "## 함수형 프로그래밍의 장점?\n",
    "\n",
    "---"
   ]
  },
  {
   "cell_type": "markdown",
   "metadata": {
    "slideshow": {
     "slide_type": "fragment"
    }
   },
   "source": [
    "**- 코드양이 적어진다.**\n",
    "* 이미 여러 번 봤다시피 함수형 프로그래밍은 문제를 압도적으로 간결하게 처리할 수 있다."
   ]
  },
  {
   "cell_type": "markdown",
   "metadata": {
    "slideshow": {
     "slide_type": "fragment"
    }
   },
   "source": [
    "```julia\n",
    "# Julia\n",
    "s = 0\n",
    "for i = 1:100\n",
    "    if mod(i,2)==0\n",
    "        s += i\n",
    "    end\n",
    "end\n",
    "```\n",
    "이랬던 코드가.."
   ]
  },
  {
   "cell_type": "markdown",
   "metadata": {
    "slideshow": {
     "slide_type": "fragment"
    }
   },
   "source": [
    "```julia\n",
    "# Julia\n",
    "reduce(+,filter(iseven,1:100))\n",
    "```\n",
    "이렇게 됩니다."
   ]
  },
  {
   "cell_type": "markdown",
   "metadata": {
    "slideshow": {
     "slide_type": "subslide"
    }
   },
   "source": [
    "* 이유가 뭘까?"
   ]
  },
  {
   "cell_type": "markdown",
   "metadata": {
    "slideshow": {
     "slide_type": "fragment"
    }
   },
   "source": [
    ": 함수형 프로그래밍의 경우, 고도로 유용한 추상화 능력을 가진 것으로 알려진 **수학**이라는 분야의 개념을 그대로 프로그래밍에 적용할 수 있기 때문."
   ]
  },
  {
   "cell_type": "markdown",
   "metadata": {
    "slideshow": {
     "slide_type": "fragment"
    }
   },
   "source": [
    "* 코드 수 짧은 것이 의미가 있음?"
   ]
  },
  {
   "cell_type": "markdown",
   "metadata": {
    "slideshow": {
     "slide_type": "fragment"
    }
   },
   "source": [
    ": 코드양이 적다는 것은 생산성 자체도 높여주지만, 무엇보다 높은 유지 보수성에 직접적인 영향을 미친다.\n",
    "\n",
    "~~C로 된 20000줄 코드 vs Haskell로 된 100줄 코드~~"
   ]
  },
  {
   "cell_type": "markdown",
   "metadata": {
    "slideshow": {
     "slide_type": "subslide"
    }
   },
   "source": [
    "**- 최적화하기 쉽다**\n",
    "* 이미 최적화는 프로그래머들의 노력을 통해 얻어지는 일이 아니라 컴파일러가 자동으로 해 주는 일임"
   ]
  },
  {
   "cell_type": "markdown",
   "metadata": {
    "slideshow": {
     "slide_type": "fragment"
    }
   },
   "source": [
    "* 따라서 처리계가 최적화를 위해 사용할 수 있는 유용한 특징을 많이 갖추고 있을 수록 효율을 신경쓰지 않아도 자동으로 고효율 프로그래밍이 생성될 수 있다. `->` 함수형 프로그래밍의 고급 추상화 능력이 도움이 됨."
   ]
  },
  {
   "cell_type": "markdown",
   "metadata": {
    "slideshow": {
     "slide_type": "fragment"
    }
   },
   "source": [
    "**- 병행/병렬화가 쉽다**\n",
    "* 뭐 입 아프게 말했으니 넘어갑시다. 하지만 좀 있다가 구체적으로 다시 말할 예정"
   ]
  },
  {
   "cell_type": "markdown",
   "metadata": {
    "slideshow": {
     "slide_type": "subslide"
    }
   },
   "source": [
    "## 함수형 언어 vs 명령형 언어\n",
    "\n",
    "---"
   ]
  },
  {
   "cell_type": "markdown",
   "metadata": {
    "slideshow": {
     "slide_type": "fragment"
    }
   },
   "source": [
    "**- 명령형 언어의 문제 해결 방법**"
   ]
  },
  {
   "cell_type": "markdown",
   "metadata": {
    "slideshow": {
     "slide_type": "fragment"
    }
   },
   "source": [
    "* 값을 어디에 보관할 것인가 (대입)\n",
    "* 어디로부터 값을 가져올 것인가 (참조)\n",
    "* 다음에 어떤 절차로 진행할 것인가 (절차의 호출)"
   ]
  },
  {
   "cell_type": "markdown",
   "metadata": {
    "slideshow": {
     "slide_type": "fragment"
    }
   },
   "source": [
    "* 문제점: 저장매체를 다루는 언어가 충분히 추상화해 주지 않아서 메모리에 대한 매우 저수준의 조작을 프로그래머에게 의식시키거나 그것을 서술하도록 요구함 `->` CPU가 말을 잘 알아듣지만 배보다 배꼽이 커짐"
   ]
  },
  {
   "cell_type": "markdown",
   "metadata": {
    "slideshow": {
     "slide_type": "fragment"
    }
   },
   "source": [
    "**- 함수형 언어의 문제 해결 방법**"
   ]
  },
  {
   "cell_type": "markdown",
   "metadata": {
    "slideshow": {
     "slide_type": "fragment"
    }
   },
   "source": [
    "* 결과의 성질을 선언"
   ]
  },
  {
   "cell_type": "markdown",
   "metadata": {
    "slideshow": {
     "slide_type": "subslide"
    }
   },
   "source": [
    "### ? 처리는 어쩌고?\n",
    "\n",
    "---"
   ]
  },
  {
   "cell_type": "markdown",
   "metadata": {
    "slideshow": {
     "slide_type": "fragment"
    }
   },
   "source": [
    "* 결과의 성질에 주목하고 그것만을 기술하면 나머지는 처리계(컴파일러, 인터프리터 등)가 알아서 해줌"
   ]
  },
  {
   "cell_type": "markdown",
   "metadata": {
    "slideshow": {
     "slide_type": "fragment"
    }
   },
   "source": [
    "* 예시로 4색 정리를 들어보자"
   ]
  },
  {
   "cell_type": "markdown",
   "metadata": {
    "slideshow": {
     "slide_type": "subslide"
    }
   },
   "source": [
    "**- 명령형 언어**\n",
    "* A를 빨간색으로 칠해보자.\n",
    "* B도 빨간색으로 칠해보자.\n",
    "* A와 B가 만나지 않았다면 C도 빨간색으로 칠해보자.\n",
    "* A와 C가 만났는가? 만나지 않았다면 B와 C는 만났는가? 아 만났구나!\n",
    "* 그럼 C를 파란색으로 칠해보자. `..`"
   ]
  },
  {
   "cell_type": "markdown",
   "metadata": {
    "slideshow": {
     "slide_type": "fragment"
    }
   },
   "source": [
    "**- 선언형 언어**\n",
    "* A,B,C,D,E의 인접함을 정의한다.\n",
    "* 빨간색, 파란색, 노란색, 초록색은 모두 다른 색이다.\n",
    "* 인접한 나라에는 다른 색깔이 칠해져야 한다.\n",
    "* 끝!"
   ]
  },
  {
   "cell_type": "markdown",
   "metadata": {
    "slideshow": {
     "slide_type": "subslide"
    }
   },
   "source": [
    "* 좀 더 쉽게 설명하자면 1부터 10까지 더하는 작업을 할 때,"
   ]
  },
  {
   "cell_type": "markdown",
   "metadata": {
    "slideshow": {
     "slide_type": "fragment"
    }
   },
   "source": [
    "```go\n",
    "// Go\n",
    "func Sum55(n int) int {\n",
    "\ts := 0\n",
    "\tfor i := 1; i <= n; i++ {\n",
    "\t\ts += i\n",
    "\t}\n",
    "\treturn s\n",
    "}\n",
    "```\n",
    ": 명령형 언어는 값을 보관할 `s`라는 변수를 만들어 두고 `for`라는 구문을 이용하여 방법까지 모두 명시해야 하지만"
   ]
  },
  {
   "cell_type": "markdown",
   "metadata": {
    "slideshow": {
     "slide_type": "fragment"
    }
   },
   "source": [
    "```haskell\n",
    "-- Haskell\n",
    "foldl (+) 0 [1..10]\n",
    "```\n",
    ": 함수형 언어는 담을 변수를 선언할 필요도 없고 방법을 구체적으로 명시할 필요가 없다. (해봐야 점화식 정도)"
   ]
  },
  {
   "cell_type": "markdown",
   "metadata": {
    "slideshow": {
     "slide_type": "subslide"
    }
   },
   "source": [
    "### 명령형도 함수 만들어진거 쓰면 똑같지 않나?\n",
    "\n",
    "---\n",
    "\n",
    "* 물론 비슷해보이지만 처리계 수준에서 차이가 나게 되어 있음"
   ]
  },
  {
   "cell_type": "markdown",
   "metadata": {
    "slideshow": {
     "slide_type": "fragment"
    }
   },
   "source": [
    "```python\n",
    "x = a + b\n",
    "# 중간 생략\n",
    "y = a + b\n",
    "```"
   ]
  },
  {
   "cell_type": "markdown",
   "metadata": {
    "slideshow": {
     "slide_type": "fragment"
    }
   },
   "source": [
    "* 명령형, 즉, 대입이 있는 언어에서는 중간에 생략되어 있는 부분의 코드에 따라 `x`와 `y`는 동일하지 않을 수 있다."
   ]
  },
  {
   "cell_type": "markdown",
   "metadata": {
    "slideshow": {
     "slide_type": "fragment"
    }
   },
   "source": [
    "* 본인이 그런 짓을 안한다 해도 처리계는 항상 분석해야함."
   ]
  },
  {
   "cell_type": "markdown",
   "metadata": {
    "slideshow": {
     "slide_type": "fragment"
    }
   },
   "source": [
    "* 하지만 함수형에서는 중간생략이 뭐든 변하지 않는 것이 보증되므로 분석이 생략된다. 따라서 처리계가 최적화하기 쉬워진다."
   ]
  },
  {
   "cell_type": "markdown",
   "metadata": {
    "slideshow": {
     "slide_type": "subslide"
    }
   },
   "source": [
    "## 뭐 좋다고 칩시다. 근데 왜 안 썼음?\n",
    "\n",
    "---"
   ]
  },
  {
   "cell_type": "markdown",
   "metadata": {
    "slideshow": {
     "slide_type": "fragment"
    }
   },
   "source": [
    "**- 추상화는 사람과 언어 모두에 의존**"
   ]
  },
  {
   "cell_type": "markdown",
   "metadata": {
    "slideshow": {
     "slide_type": "fragment"
    }
   },
   "source": [
    "* 추상화라는 것은 구현과 인터페이스를 분리해둬서 프로그램을 유연하게 유지시키는 것"
   ]
  },
  {
   "cell_type": "markdown",
   "metadata": {
    "slideshow": {
     "slide_type": "fragment"
    }
   },
   "source": [
    "* 그런데 프로그래머가 갖고 있는 추상화능력도 중요하지만 컴파일러 자체에 의해 가능한 추상화를 무시할 수 없음"
   ]
  },
  {
   "cell_type": "markdown",
   "metadata": {
    "slideshow": {
     "slide_type": "fragment"
    }
   },
   "source": [
    "* 뒤에서 또 말하겠지만 언어기술과 그에 맞는 CPU 성능이 오늘에서야 맞춰졌기에 이제야 잘 쓸 수 있는 것"
   ]
  },
  {
   "cell_type": "markdown",
   "metadata": {
    "slideshow": {
     "slide_type": "fragment"
    }
   },
   "source": [
    "* 함수형 언어에서 추상화할 때는 Group Theory와 Category Theory라는 수학적 방향을 추구 - 수학실력이 그닥 안 좋아도 만들어 놓은 거 갖다쓰면 되니 걱정 ㄴㄴ"
   ]
  },
  {
   "cell_type": "markdown",
   "metadata": {
    "slideshow": {
     "slide_type": "subslide"
    }
   },
   "source": [
    "**- 최적화의 중요성**"
   ]
  },
  {
   "cell_type": "markdown",
   "metadata": {
    "slideshow": {
     "slide_type": "fragment"
    }
   },
   "source": [
    "* 프로그래밍에서 **최적화** 또한 매우 중요한 요소"
   ]
  },
  {
   "cell_type": "markdown",
   "metadata": {
    "slideshow": {
     "slide_type": "fragment"
    }
   },
   "source": [
    "* 과거엔 CPU의 성능이 낮아 추상화도 제대로 못 시키고 명령형으로만 질의해야 했음"
   ]
  },
  {
   "cell_type": "markdown",
   "metadata": {
    "slideshow": {
     "slide_type": "fragment"
    }
   },
   "source": [
    "* 하지만 요즘은 컴파일러 등의 처리계에 최적화를 맡기는 것이 좋을 만큼 CPU의 레벨이 상승"
   ]
  },
  {
   "cell_type": "markdown",
   "metadata": {
    "slideshow": {
     "slide_type": "fragment"
    }
   },
   "source": [
    "* 가장 쉬운 예로 1 부터 n 까지 더하는 함수를 생각해보자."
   ]
  },
  {
   "cell_type": "markdown",
   "metadata": {
    "slideshow": {
     "slide_type": "subslide"
    }
   },
   "source": [
    "```c\n",
    "// C (C99)\n",
    "int totalFrom1To(int n) {\n",
    "    int result = 0;\n",
    "    for (int i = 1; i <= n; result += i++);\n",
    "    return result;\n",
    "}\n",
    "```"
   ]
  },
  {
   "cell_type": "markdown",
   "metadata": {
    "slideshow": {
     "slide_type": "fragment"
    }
   },
   "source": [
    "```haskell\n",
    "-- Haskell\n",
    "totalFrom1To = sum . enumFromTo 1\n",
    "```"
   ]
  },
  {
   "cell_type": "markdown",
   "metadata": {
    "slideshow": {
     "slide_type": "fragment"
    }
   },
   "source": [
    "* `enumFromTo`라는 함수는 어떤 수부터 시작하는 리스트를 생성하는 함수"
   ]
  },
  {
   "cell_type": "markdown",
   "metadata": {
    "slideshow": {
     "slide_type": "fragment"
    }
   },
   "source": [
    "* 언뜻 보면, 배열을 만드는 만큼의 처리가 아까운 것은 아닌가 생각이 드는데 Haskell에는 이미 수학이라는 엄청난 학문의 성과가 집약되어 있다. `->` 한 번 확인해 봅시다"
   ]
  },
  {
   "cell_type": "markdown",
   "metadata": {
    "slideshow": {
     "slide_type": "subslide"
    }
   },
   "source": [
    "```haskell\n",
    "-- 최적화 갖다 버린 코드\n",
    "sum (enumFromTo 1 5)\n",
    "=> sum (1 : enumFromTo 2 5)\n",
    "=> sum (1 : 2 : enumFromTo 3 5)\n",
    "..\n",
    "=> sum (1 : 2 : 3 : 4 : 5 : [])\n",
    "=> 1 + sum (2 : 3 : 4 : 5 : [])\n",
    "..\n",
    "=> 1 + (2 + (3 + (4 + (5 + 0))))\n",
    "=> 15\n",
    "```"
   ]
  },
  {
   "cell_type": "markdown",
   "metadata": {
    "slideshow": {
     "slide_type": "fragment"
    }
   },
   "source": [
    "* 배열을 먼저 생성하고 그 후에 iteration을 하면서 더하는 코드니 당연히 시간은 두 배!"
   ]
  },
  {
   "cell_type": "markdown",
   "metadata": {
    "slideshow": {
     "slide_type": "fragment"
    }
   },
   "source": [
    "* 이러면 이걸 누가 쓰냐 `->` 따라서 수학을 사용한 컴파일러는 다음과 같은 최적화를 보여줌"
   ]
  },
  {
   "cell_type": "markdown",
   "metadata": {
    "slideshow": {
     "slide_type": "subslide"
    }
   },
   "source": [
    "```haskell\n",
    "-- 최적화된 코드\n",
    "sum (enumFromTo 1 5)\n",
    "=> 1 + sum (enumFromTo 2 5)\n",
    "=> 1 + (2 + sum (enumFromTo 3 5))\n",
    "..\n",
    "=> 1 + (2 + (3 + (4 + (5 + 0))))\n",
    "=> 15\n",
    "```"
   ]
  },
  {
   "cell_type": "markdown",
   "metadata": {
    "slideshow": {
     "slide_type": "fragment"
    }
   },
   "source": [
    "* 리스트를 만드는 `enumFromTo`와 리스트를 더해버리는 `sum`을 합성했더니 중간단계의 List가 사라져 버렸다!"
   ]
  },
  {
   "cell_type": "markdown",
   "metadata": {
    "slideshow": {
     "slide_type": "fragment"
    }
   },
   "source": [
    "* 수학에서의 함수 합성이 애초에 이런 식이니 수학에서의 함수를 다루는 함수형언어에서는 흔한 일"
   ]
  },
  {
   "cell_type": "markdown",
   "metadata": {
    "slideshow": {
     "slide_type": "subslide"
    }
   },
   "source": [
    "## 앞으로의 보급 가능성?\n",
    "\n",
    "---\n",
    "\n",
    "* 이미 생각보다는 일자리가 꽤 많음. 특히 수학적인 것과 원래 잘 맞는 금융분야의 채용이 많은 편"
   ]
  },
  {
   "cell_type": "markdown",
   "metadata": {
    "slideshow": {
     "slide_type": "fragment"
    }
   },
   "source": [
    "* 하지만 Java처럼 많은 사람들이 \"누구라도 그럭저럭 할 수 있는\" 상태로 되는 것을 보급기준으로 본다면, 암울."
   ]
  },
  {
   "cell_type": "markdown",
   "metadata": {
    "slideshow": {
     "slide_type": "fragment"
    }
   },
   "source": [
    "* 거의 대부분의 경우, 함수형 언어는 \"그럭저럭 할 수 있는 상태\"를 허용하지 않기 때문"
   ]
  },
  {
   "cell_type": "markdown",
   "metadata": {
    "slideshow": {
     "slide_type": "fragment"
    }
   },
   "source": [
    "* 또한 아직 명령형 언어부터 프로그래밍 시작하는 사람이 많다. `->` 애초부터 함수형으로 하면 함수형이 어려운지 모른다. (미쿡 사람은 영어가 어렵지 않은 것과 같은 이치)"
   ]
  },
  {
   "cell_type": "markdown",
   "metadata": {
    "slideshow": {
     "slide_type": "slide"
    }
   },
   "source": [
    "# 종류 및 역사"
   ]
  },
  {
   "cell_type": "markdown",
   "metadata": {
    "slideshow": {
     "slide_type": "subslide"
    }
   },
   "source": [
    "**- 여러분들이 관심을 가질만한 함수형 언어는 다음과 같습니다.**"
   ]
  },
  {
   "cell_type": "markdown",
   "metadata": {
    "slideshow": {
     "slide_type": "fragment"
    }
   },
   "source": [
    "* **Agda**\n",
    ": 스웨덴의 찰머스공과대학에서 개발된 함수형 언어로 타입 중에서도 강력한 의존 타입이라는 구조를 갖고 있어 수학적 정리 및 증명을 할 수 있다. Haskell과 유사한 문법을 가지고 있음"
   ]
  },
  {
   "cell_type": "markdown",
   "metadata": {
    "slideshow": {
     "slide_type": "fragment"
    }
   },
   "source": [
    "* **Clojure** : LISP 계열 중 최신버전으로 리치 히키에 의해 만들어진 JVM에서 구동되는 함수형 언어."
   ]
  },
  {
   "cell_type": "markdown",
   "metadata": {
    "slideshow": {
     "slide_type": "fragment"
    }
   },
   "source": [
    "* **Coq** : 프랑스 국립 정보학 자동 제어 연구소(INRIA)가 개발한 정리 증명 지원계의 순수 함수형 언어.  OCaml의 영향을 받아 OCaml로 구현되어 있다. 의존타입의 구조를 갖고 있어, 함수를 작성하고 함수가 만족해야 할 성질을 기술한 후 그 성질에 대해 정리 증명을 할 수 있다. tactic이라는 증명을 위한 강력한 기능을 제공하고 있어 tactic 명령을 나열하여 증명을 진행할 수 있다. 또한 입증된 함수를 다른 언어로 출력할 수 있다."
   ]
  },
  {
   "cell_type": "markdown",
   "metadata": {
    "slideshow": {
     "slide_type": "fragment"
    }
   },
   "source": [
    "* **Erlang** : 에릭손(Ericsson)사가 만든 함수형 언어. 병행/분산 처리를 강하게 의식한 언어로 설계되어 있으며, 경량 프로세스라고도 불리는 자체 스레드 간의 메시징에 의해 (OpenMPI?!) 주로 처리한다."
   ]
  },
  {
   "cell_type": "markdown",
   "metadata": {
    "slideshow": {
     "slide_type": "subslide"
    }
   },
   "source": [
    "* **F#** : Microsoft가 OCaml을 바탕으로 개발하고 있는 .NET Framework에서의 함수형 언어. VS 2010부터 추가되어 있다. Computation Expression이라는 것으로 부작용을 제어할 수 있다."
   ]
  },
  {
   "cell_type": "markdown",
   "metadata": {
    "slideshow": {
     "slide_type": "fragment"
    }
   },
   "source": [
    "* **Haskell** : 함수형 언어의 개방형 표준으로 만들어진 순수 함수형 언어. Miranda를 바탕으로 한 문법을 가지고 있다. **모나드**라는 구조를 가지고 부작용을 취급한다."
   ]
  },
  {
   "cell_type": "markdown",
   "metadata": {
    "slideshow": {
     "slide_type": "fragment"
    }
   },
   "source": [
    "* **Idris** : 세인트앤드루스 대학의 에드윈 브래디에 의해 개발된 의존 타입을 지닌 함수형 언어. Haskell과 비슷한 문법과 언어 기능, Coq가 갖고 있는 tactic을 가지고 있다. ~~(젤나가 맙소사)~~"
   ]
  },
  {
   "cell_type": "markdown",
   "metadata": {
    "slideshow": {
     "slide_type": "fragment"
    }
   },
   "source": [
    "* **OCaml** : INRIA가 개발한 ML계열의 언어. C언어로 작성한 경우와 손색이 없는 정도의 동작 속도를 기대할 수 있다. 객체지향 기능이 있긴 하지만 숙달된 OCaml 프로그래머일수록 객체지향적 부분은 사용하지 않는다고 한다."
   ]
  },
  {
   "cell_type": "markdown",
   "metadata": {
    "slideshow": {
     "slide_type": "fragment"
    }
   },
   "source": [
    "* **Scala** : 마틴 오더스키에 의해 개발된 JVM에서 동작하는 함수형 언어. 객체지향과 함수형의 통합을 목적 중 하나로 내걸고 있다. Java와 100% 호환되므로 기존의 Java프로그램을 부분적으로 치환해나간다는 소리를 듣고 있다. 최근엔 새로이 나온 함수형 언어 Kotlin과 경쟁하고 있다."
   ]
  },
  {
   "cell_type": "markdown",
   "metadata": {
    "slideshow": {
     "slide_type": "subslide"
    }
   },
   "source": [
    "## 역사는 간단히 봅시다.\n",
    "\n",
    "---"
   ]
  },
  {
   "cell_type": "markdown",
   "metadata": {
    "slideshow": {
     "slide_type": "fragment"
    }
   },
   "source": [
    "* 1938년 - Lamda Calculus 탄생"
   ]
  },
  {
   "cell_type": "markdown",
   "metadata": {
    "slideshow": {
     "slide_type": "fragment"
    }
   },
   "source": [
    "* 1958년 - Lisp 탄생"
   ]
  },
  {
   "cell_type": "markdown",
   "metadata": {
    "slideshow": {
     "slide_type": "fragment"
    }
   },
   "source": [
    "* 1970년 - ML 탄생"
   ]
  },
  {
   "cell_type": "markdown",
   "metadata": {
    "slideshow": {
     "slide_type": "fragment"
    }
   },
   "source": [
    "* 1985년 - Miranda 탄생 (최초의 상용 순수 함수형 언어)"
   ]
  },
  {
   "cell_type": "markdown",
   "metadata": {
    "slideshow": {
     "slide_type": "fragment"
    }
   },
   "source": [
    "* 1990년 - Haskell 1.0 탄생"
   ]
  },
  {
   "cell_type": "markdown",
   "metadata": {
    "slideshow": {
     "slide_type": "fragment"
    }
   },
   "source": [
    "* 1991년 - Coq 탄생"
   ]
  },
  {
   "cell_type": "markdown",
   "metadata": {
    "slideshow": {
     "slide_type": "subslide"
    }
   },
   "source": [
    "* 1996년 - OCaml 탄생"
   ]
  },
  {
   "cell_type": "markdown",
   "metadata": {
    "slideshow": {
     "slide_type": "fragment"
    }
   },
   "source": [
    "* 1998년 - Erlang의 오픈소스화"
   ]
  },
  {
   "cell_type": "markdown",
   "metadata": {
    "slideshow": {
     "slide_type": "fragment"
    }
   },
   "source": [
    "* 2003년 - Scala 탄생"
   ]
  },
  {
   "cell_type": "markdown",
   "metadata": {
    "slideshow": {
     "slide_type": "fragment"
    }
   },
   "source": [
    "* 2005년 - F# 탄생"
   ]
  },
  {
   "cell_type": "markdown",
   "metadata": {
    "slideshow": {
     "slide_type": "fragment"
    }
   },
   "source": [
    "* 2007년 - Clojure 탄생"
   ]
  },
  {
   "cell_type": "markdown",
   "metadata": {
    "slideshow": {
     "slide_type": "fragment"
    }
   },
   "source": [
    "* 2012년 - Idris 0.9 발표"
   ]
  },
  {
   "cell_type": "markdown",
   "metadata": {
    "slideshow": {
     "slide_type": "slide"
    }
   },
   "source": [
    "# Haskell 기초"
   ]
  },
  {
   "cell_type": "markdown",
   "metadata": {
    "slideshow": {
     "slide_type": "subslide"
    }
   },
   "source": [
    "**저번엔 욕심이 과헀던 걸로..**\n",
    "\n",
    "* 기초부분은 엄청 쉽습니다."
   ]
  },
  {
   "cell_type": "markdown",
   "metadata": {
    "slideshow": {
     "slide_type": "subslide"
    }
   },
   "source": [
    "## 용어 정리 (리터럴)\n",
    "\n",
    "---"
   ]
  },
  {
   "cell_type": "markdown",
   "metadata": {
    "slideshow": {
     "slide_type": "fragment"
    }
   },
   "source": [
    "* **값**은 프로그램 중에서 조작의 대상이 되는 구체적인 특정 데이터"
   ]
  },
  {
   "cell_type": "markdown",
   "metadata": {
    "slideshow": {
     "slide_type": "fragment"
    }
   },
   "source": [
    "* 대표적이고 직관적인 것으로, Bool 값이거나 자연수, 문자, 문자열 등이 있다."
   ]
  },
  {
   "cell_type": "markdown",
   "metadata": {
    "slideshow": {
     "slide_type": "fragment"
    }
   },
   "source": [
    "* **리터럴**이란, 프로그램 안에서 값의 표현 및 그에 대한 방법을 의미"
   ]
  },
  {
   "cell_type": "markdown",
   "metadata": {
    "slideshow": {
     "slide_type": "fragment"
    }
   },
   "source": [
    "```haskell\n",
    "Prelude> 0 -- 숫자 리터럴\n",
    "Prelude> 0o644 -- 8진수 리터럴\n",
    "Prelude> 0xFF --16진수 리터럴\n",
    "Prelude> 0.01 -- 소수점 리터럴\n",
    "Prelude> 1.0e-2 -- 소수점 리터럴 (지수 표현)\n",
    "Prelude> 'A' -- 작은 따옴표는 문자 리터럴을 의미\n",
    "Prelude> putChar '\\955' -- 역시나 문자리터럴인데 Unicode 문자임. (\\8704, \\8712, \\12354)도 해보자!\n",
    "Prelude> \"Hello, World!\" -- 큰 따옴표는 문자열 리터럴\n",
    "```"
   ]
  },
  {
   "cell_type": "markdown",
   "metadata": {
    "slideshow": {
     "slide_type": "subslide"
    }
   },
   "source": [
    "* 함수형 언어이므로 당연하게도 함수 리터럴도 존재. `->` 람다식"
   ]
  },
  {
   "cell_type": "markdown",
   "metadata": {
    "slideshow": {
     "slide_type": "fragment"
    }
   },
   "source": [
    "```haskell\n",
    "Prelude> \\x -> 2 * x -- 함수는 Show 할 수 없으므로 에러발생 (f(x) = x^2 의 f는 어디에 있을까?)\n",
    "Prelude> (\\x -> 2 * x) 1 -- 함수에 숫자를 넣은 건 볼 수 있다.\n",
    "```"
   ]
  },
  {
   "cell_type": "markdown",
   "metadata": {
    "slideshow": {
     "slide_type": "fragment"
    }
   },
   "source": [
    "* 위에서 보다시피 혹은 저번에도 말했다시피 Haskell에서의 함수 적용은 스페이스로 적용한다."
   ]
  },
  {
   "cell_type": "markdown",
   "metadata": {
    "slideshow": {
     "slide_type": "fragment"
    }
   },
   "source": [
    "* Haskell에서는 변수와 상수의 구분이 없다. 따라서 구분하지 않는다."
   ]
  },
  {
   "cell_type": "markdown",
   "metadata": {
    "slideshow": {
     "slide_type": "fragment"
    }
   },
   "source": [
    "* Haskell에서는 대입이 없고 대신 속박이라고 한다."
   ]
  },
  {
   "cell_type": "markdown",
   "metadata": {
    "slideshow": {
     "slide_type": "fragment"
    }
   },
   "source": [
    "```haskell\n",
    "Prelude> let one = 1\n",
    "```"
   ]
  },
  {
   "cell_type": "markdown",
   "metadata": {
    "slideshow": {
     "slide_type": "subslide"
    }
   },
   "source": [
    "## Haskell에는 문장이 존재하지 않는다.\n",
    "\n",
    "---"
   ]
  },
  {
   "cell_type": "markdown",
   "metadata": {
    "slideshow": {
     "slide_type": "fragment"
    }
   },
   "source": [
    "* Haskell은 정적 타입이므로 모든 값은 타입이 정해져있다."
   ]
  },
  {
   "cell_type": "markdown",
   "metadata": {
    "slideshow": {
     "slide_type": "fragment"
    }
   },
   "source": [
    "```haskell\n",
    "Prelude> :set +t\n",
    "Prelude> True\n",
    "Prelude> let one = 1 :: Int\n",
    "Prelude> let two = 2 :: Double\n",
    "Prelude> let a = 'A'\n",
    "```"
   ]
  },
  {
   "cell_type": "markdown",
   "metadata": {
    "slideshow": {
     "slide_type": "fragment"
    }
   },
   "source": [
    "* 당연하게도 함수에도 타입이 있다."
   ]
  },
  {
   "cell_type": "markdown",
   "metadata": {
    "slideshow": {
     "slide_type": "fragment"
    }
   },
   "source": [
    "```haskell\n",
    "Prelude> :t not\n",
    "Prelude> :t (+)\n",
    "Prelude> :t (&&)\n",
    "```"
   ]
  },
  {
   "cell_type": "markdown",
   "metadata": {
    "slideshow": {
     "slide_type": "subslide"
    }
   },
   "source": [
    "* Haskell은 문장이 없다. 모든 것은 값이다."
   ]
  },
  {
   "cell_type": "markdown",
   "metadata": {
    "slideshow": {
     "slide_type": "fragment"
    }
   },
   "source": [
    "```haskell\n",
    "Prelude> let x = 1\n",
    "Prelude> :t (if x == 1 then True else False)\n",
    "```"
   ]
  },
  {
   "cell_type": "markdown",
   "metadata": {
    "slideshow": {
     "slide_type": "subslide"
    }
   },
   "source": [
    "## 그 몸은 커링으로 이루어져 있다.\n",
    "\n",
    "---"
   ]
  },
  {
   "cell_type": "markdown",
   "metadata": {
    "slideshow": {
     "slide_type": "fragment"
    }
   },
   "source": [
    "* Haskell의 모든 함수는 커링화(업그레이드 된 부분함수)되어 있다"
   ]
  },
  {
   "cell_type": "markdown",
   "metadata": {
    "slideshow": {
     "slide_type": "fragment"
    }
   },
   "source": [
    "```haskell\n",
    "Prelude> :t (&&)\n",
    "Prelude> let andT = (&&) True\n",
    "Prelude> :t andT\n",
    "```"
   ]
  },
  {
   "cell_type": "markdown",
   "metadata": {
    "slideshow": {
     "slide_type": "subslide"
    }
   },
   "source": [
    "## 소수와 정수의 더하기는 다르다?\n",
    "\n",
    "---\n",
    "\n"
   ]
  },
  {
   "cell_type": "markdown",
   "metadata": {
    "slideshow": {
     "slide_type": "fragment"
    }
   },
   "source": [
    "* 사람들에게는 소수나 정수나 더하기 메커니즘이 같지만 컴퓨터는 다른 데이터 타입을 다루는 것이므로 당연히 다르다."
   ]
  },
  {
   "cell_type": "markdown",
   "metadata": {
    "slideshow": {
     "slide_type": "fragment"
    }
   },
   "source": [
    "* 하지만 그것을 일일이 다 다르게 만들기엔 시간낭비가 커짐 `->` 일반적으로 다룰 수 없을까?"
   ]
  },
  {
   "cell_type": "markdown",
   "metadata": {
    "slideshow": {
     "slide_type": "fragment"
    }
   },
   "source": [
    "* 해결책은 여러개가 존재 `->` 1) Generic & Template, 2) Polymorphism, 3) Multiple Dispatch"
   ]
  },
  {
   "cell_type": "markdown",
   "metadata": {
    "slideshow": {
     "slide_type": "fragment"
    }
   },
   "source": [
    "* Generic & Template은 C++ 및 Java에서 선택한 방법\n",
    "* Polymorphism은 여러 함수형 언어에서 채택한 방법\n",
    "* Multiple Dispatch는 Julia에서 선택한 방법"
   ]
  },
  {
   "cell_type": "markdown",
   "metadata": {
    "slideshow": {
     "slide_type": "slide"
    }
   },
   "source": [
    "# 베짱이는 개미를 이길 수 있다?"
   ]
  },
  {
   "cell_type": "markdown",
   "metadata": {
    "slideshow": {
     "slide_type": "subslide"
    }
   },
   "source": [
    "## Tarai 함수\n",
    "\n",
    "---"
   ]
  },
  {
   "cell_type": "markdown",
   "metadata": {
    "slideshow": {
     "slide_type": "fragment"
    }
   },
   "source": [
    "* C++ Version"
   ]
  },
  {
   "cell_type": "markdown",
   "metadata": {
    "slideshow": {
     "slide_type": "fragment"
    }
   },
   "source": [
    "```cpp\n",
    "int tarai(int x, int y, int z) {\n",
    "    return (x <= y)\n",
    "        ? y\n",
    "        : tarai(tarai(x - 1, y, z),\n",
    "                tarai(y - 1, z, x),\n",
    "                tarai(z - 1, x, y));\n",
    "}\n",
    "```"
   ]
  },
  {
   "cell_type": "markdown",
   "metadata": {
    "slideshow": {
     "slide_type": "subslide"
    }
   },
   "source": [
    "* Haskell Version"
   ]
  },
  {
   "cell_type": "markdown",
   "metadata": {
    "slideshow": {
     "slide_type": "fragment"
    }
   },
   "source": [
    "```haskell\n",
    "tarai :: Int -> Int -> Int\n",
    "tarai x y z | x<=y = y\n",
    "            | otherwise = tarai\n",
    "                          (tarai (x - 1) y z)\n",
    "                          (tarai (y - 1) z x)\n",
    "                          (tarai (z - 1) x y)\n",
    "```"
   ]
  }
 ],
 "metadata": {
  "celltoolbar": "Slideshow",
  "kernelspec": {
   "display_name": "Haskell",
   "language": "haskell",
   "name": "haskell"
  },
  "language_info": {
   "codemirror_mode": "ihaskell",
   "file_extension": ".hs",
   "name": "haskell",
   "version": "8.2.2"
  }
 },
 "nbformat": 4,
 "nbformat_minor": 2
}
