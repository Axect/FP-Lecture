{
 "cells": [
  {
   "cell_type": "markdown",
   "metadata": {
    "slideshow": {
     "slide_type": "slide"
    }
   },
   "source": [
    "# Functional Programming\n",
    "<br />\n",
    "## Introduction\n",
    "#### Tae Geun Kim"
   ]
  },
  {
   "cell_type": "markdown",
   "metadata": {
    "slideshow": {
     "slide_type": "subslide"
    }
   },
   "source": [
    "### - Table of Contents\n",
    "\n",
    "* 뭐\n",
    "* 왜\n",
    "* 그래서 뭐"
   ]
  },
  {
   "cell_type": "markdown",
   "metadata": {
    "slideshow": {
     "slide_type": "slide"
    }
   },
   "source": [
    "<h1 style=\"text-align:center\">뭐</h1>"
   ]
  },
  {
   "cell_type": "markdown",
   "metadata": {
    "slideshow": {
     "slide_type": "subslide"
    }
   },
   "source": [
    "## 함수형 프로그래밍\n",
    "\n",
    "------\n",
    "\n",
    "* 객체지향 프로그래밍이 객체 위주라면 함수형 프로그래밍은 당연하게도 함수 위주\n",
    "* 함수는 일급 시민 - 반환 가능하고 인수로 사용 가능함\n",
    "* 예를 들면"
   ]
  },
  {
   "cell_type": "markdown",
   "metadata": {
    "slideshow": {
     "slide_type": "fragment"
    }
   },
   "source": [
    "```haskell\n",
    "-- Haskell\n",
    "hello :: String -> (String -> String) -- String을 받아서 String에서 String으로 가는 함수를 반환함\n",
    "hello text = (text++)\n",
    "\n",
    "test = hello \"Hi\" -- test is function!\n",
    "test \" Axect\" -- \"Hi Axect\"\n",
    "```"
   ]
  },
  {
   "cell_type": "markdown",
   "metadata": {
    "slideshow": {
     "slide_type": "subslide"
    }
   },
   "source": [
    "* Haskell은 이해가 안되는데.."
   ]
  },
  {
   "cell_type": "markdown",
   "metadata": {
    "slideshow": {
     "slide_type": "fragment"
    }
   },
   "source": [
    "* 그래서 준비했습니다!"
   ]
  },
  {
   "cell_type": "markdown",
   "metadata": {
    "slideshow": {
     "slide_type": "fragment"
    }
   },
   "source": [
    "```julia\n",
    "# Julia\n",
    "function hello(text::String)\n",
    "    return function hi(text2::String)\n",
    "    return text * text2\n",
    "    end\n",
    "end\n",
    "\n",
    "hi = hello(\"Hi \")\n",
    "# hi (generic function with 1 method)\n",
    "\n",
    "hi(\"Axect\")\n",
    "# \"Hi Axect\"\n",
    "```"
   ]
  },
  {
   "cell_type": "markdown",
   "metadata": {
    "slideshow": {
     "slide_type": "subslide"
    }
   },
   "source": [
    "## 니가 알던 내가 아니야\n",
    "\n",
    "-----\n",
    "\n",
    "* 함수형 프로그래밍의 함수는 기존 프로그래밍의 함수들과 다름\n",
    "* 함수형 프로그래밍의 함수는 순수하다. (= 수학에서의 함수와 동치이다.)\n",
    "* 함수의 순수함은 참조투명성 (referentially transparent) 으로 정의됨"
   ]
  },
  {
   "cell_type": "markdown",
   "metadata": {
    "slideshow": {
     "slide_type": "fragment"
    }
   },
   "source": [
    "* 쉽게 말해서 다음과 같은 함수는 수학에서 쓰지만\n",
    "\n",
    "$$f(x) = x^2$$"
   ]
  },
  {
   "cell_type": "markdown",
   "metadata": {
    "slideshow": {
     "slide_type": "fragment"
    }
   },
   "source": [
    "* 이런 함수는 안 쓰지 않나\n",
    "\n",
    "$$ f(x) = print(``hello world\")~and~ x^2$$ "
   ]
  },
  {
   "cell_type": "markdown",
   "metadata": {
    "slideshow": {
     "slide_type": "subslide"
    }
   },
   "source": [
    "### 참조 투명성\n",
    "\n",
    "-----\n",
    "\n",
    "* 참조투명성은 간단하게 \"치환 가능성\"을 의미\n",
    "* 예를 들어 다음 C++ 코드를 보자."
   ]
  },
  {
   "cell_type": "markdown",
   "metadata": {
    "slideshow": {
     "slide_type": "fragment"
    }
   },
   "source": [
    "```c++\n",
    "#include <iostream>\n",
    "\n",
    "using namespace std;\n",
    "\n",
    "int Inner(int a, int b) {\n",
    "    return a * b;\n",
    "}\n",
    "\n",
    "int main() {\n",
    "    cout <<Inner(3, 4) + Inner(1,2)<< endl;\n",
    "\n",
    "    return 0;\n",
    "}\n",
    "```"
   ]
  },
  {
   "cell_type": "markdown",
   "metadata": {
    "slideshow": {
     "slide_type": "fragment"
    }
   },
   "source": [
    "* `Inner(3,4)`는 12, `Inner(1,2)`는 2로 치환해도 결과는 같다. 따라서 `Inner`는 참조투명한 함수이며 순수한 함수이다."
   ]
  },
  {
   "cell_type": "markdown",
   "metadata": {
    "slideshow": {
     "slide_type": "subslide"
    }
   },
   "source": [
    "### 순수하지 않은 함수?\n",
    "\n",
    "-----\n",
    "\n",
    "* 치환 불가능한 함수도 있나? - 객체지향의 기본함수들은 대개 치환 불가능"
   ]
  },
  {
   "cell_type": "markdown",
   "metadata": {
    "slideshow": {
     "slide_type": "fragment"
    }
   },
   "source": [
    "```julia\n",
    "# Julia\n",
    "struct Circle\n",
    "    radius :: Float64\n",
    "end\n",
    "\n",
    "function extend(C::Circle)\n",
    "    C.radius += 1\n",
    "end\n",
    "```"
   ]
  },
  {
   "cell_type": "markdown",
   "metadata": {
    "slideshow": {
     "slide_type": "fragment"
    }
   },
   "source": [
    "* 값의 변경이 일어나는 경우나 print, 파일 읽기 쓰기 등등의 현실과 맞닿은 기능들은 순수하지 않음 -> **부작용 (Side Effect)!**\n",
    "* 현재는 부작용을 없애거나 거의 없앤 프로그래밍 패러다임을 함수형 프로그래밍이라고 말함."
   ]
  },
  {
   "cell_type": "markdown",
   "metadata": {
    "slideshow": {
     "slide_type": "subslide"
    }
   },
   "source": [
    "### \"거의 없앤?\"\n",
    "\n",
    "-----\n",
    "\n",
    "* 말했듯이 순수함수로는 `print`하는 것도 어려우니 순수함수만 외치면 사람들이 외면 (다음 짤을 참조)"
   ]
  },
  {
   "cell_type": "markdown",
   "metadata": {
    "slideshow": {
     "slide_type": "fragment"
    }
   },
   "source": [
    "![Sigh](Pictures/center_hs.png)"
   ]
  },
  {
   "cell_type": "markdown",
   "metadata": {
    "slideshow": {
     "slide_type": "fragment"
    }
   },
   "source": [
    "* 따라서 부작용의 도입에 따라 함수형 언어들이 분류 된다.\n",
    "    1. 완전 불허용: Haskell - Monad라는 대수적 구조로 요리조리 피해감, Elm, Idris, Coq (4색정리!)\n",
    "    2. 대체적으로 불허용: Erlang, Elixir, F#, Clojure, Ocaml\n",
    "    3. 완전 허용: Scala - FP + OOP (~~이단이다!~~)\n",
    "* 당연하게도 허용정도가 높을 수록 사람들이 많이 씀"
   ]
  },
  {
   "cell_type": "markdown",
   "metadata": {
    "slideshow": {
     "slide_type": "subslide"
    }
   },
   "source": [
    "## 뜬금없이 미분 좀 복습해보죠\n",
    "\n",
    "-----\n",
    "\n",
    "* 미분은 고등학교, 대학교 버전이 다릅니다."
   ]
  },
  {
   "cell_type": "markdown",
   "metadata": {
    "slideshow": {
     "slide_type": "fragment"
    }
   },
   "source": [
    "**고등학교**\n",
    "$$\\lim_{h\\rightarrow0}\\frac{f(x+h)-f(x)}{h}$$"
   ]
  },
  {
   "cell_type": "markdown",
   "metadata": {
    "slideshow": {
     "slide_type": "fragment"
    }
   },
   "source": [
    "**대학교**\n",
    "\n",
    "1. Linear ($D(f\\pm g) = D(f)\\pm D(g)$)\n",
    "2. Leibniz Rule ($D(fg) = D(f)g + fD(g)$)"
   ]
  },
  {
   "cell_type": "markdown",
   "metadata": {
    "slideshow": {
     "slide_type": "fragment"
    }
   },
   "source": [
    "* 고등학교는 계산 방법을 명시 : 절차적\n",
    "* 대학교는 규칙을 선언 : 선언적"
   ]
  },
  {
   "cell_type": "markdown",
   "metadata": {
    "slideshow": {
     "slide_type": "subslide"
    }
   },
   "source": [
    "### 그게 뭐 어쨌다고\n",
    "\n",
    "-----\n",
    "\n",
    "* 절차적은 계산 자체에 치중 (~~마치 갈려나가는 우리 공돌이들의 모습~~)\n",
    "* 선언적은 계산이 어떻게 수행되는지보다 그걸로 뭘 할건지에 집중\n",
    "* 과거엔 계산 방법이 중요했으니 절차적으로 프로그래밍 언어들이 탄생\n",
    "* 하지만 지금은 규칙은 아는데 방법은 모르는 것들만 남음"
   ]
  },
  {
   "cell_type": "markdown",
   "metadata": {
    "slideshow": {
     "slide_type": "subslide"
    }
   },
   "source": [
    "### 백문이 불여일견\n",
    "\n",
    "-----\n",
    "\n",
    "* 4가지 나라가 있고 어떤 모양으로 붙어있는데 4가지 다른 색깔로 인접한 국가는 모두 다르게 칠할 수 있는 경우의 수?"
   ]
  },
  {
   "cell_type": "markdown",
   "metadata": {
    "slideshow": {
     "slide_type": "fragment"
    }
   },
   "source": [
    "* 절차적인 고딩 방법으로는 열심히 Combination을 계산하고 있을 것이다. 하지만 모양이 바뀌는 순간 말짱 도루묵"
   ]
  },
  {
   "cell_type": "markdown",
   "metadata": {
    "slideshow": {
     "slide_type": "fragment"
    }
   },
   "source": [
    "* 선언적 방법으로는 그저 나라가 뭐가 다른지와 색깔이 뭐가 다른지만 선언해주면 끝. 나머지는 컴터가 알아서 구함\n",
    "* 못 믿겠다는 사람들은 브루스 테이트의 7가지 프로그래밍 언어 중 Prolog 편을 보시오 "
   ]
  },
  {
   "cell_type": "markdown",
   "metadata": {
    "slideshow": {
     "slide_type": "subslide"
    }
   },
   "source": [
    "### 함수형 프로그래밍은 선언적\n",
    "\n",
    "-----\n",
    "\n",
    "* 수열 문제 구할 때는 점화식 선언해주면 되고 미분 풀 때는 Linear와 Leibniz Rule 정해주면 지가 알아서 다함\n",
    "* 우리는 규칙을 구하는데에 중점을 둬야지 계산 방법 찾는데 중점을 두면 안됨\n",
    "* 바야흐로 공돌이 해방의 시대 (~~아닙니다~~)"
   ]
  },
  {
   "cell_type": "markdown",
   "metadata": {
    "slideshow": {
     "slide_type": "slide"
    }
   },
   "source": [
    "# 왜"
   ]
  },
  {
   "cell_type": "markdown",
   "metadata": {
    "slideshow": {
     "slide_type": "subslide"
    }
   },
   "source": [
    "## 왜를 하기 전에 질문 몇 가지만 합시다\n",
    "\n",
    "-----\n",
    "\n",
    "* 당신은 대학교에서 수학과 수업을 하나라도 들었습니까?"
   ]
  },
  {
   "cell_type": "markdown",
   "metadata": {
    "slideshow": {
     "slide_type": "fragment"
    }
   },
   "source": [
    "* 당신은 멀티코어 프로그래밍을 필요로 합니까?"
   ]
  },
  {
   "cell_type": "markdown",
   "metadata": {
    "slideshow": {
     "slide_type": "fragment"
    }
   },
   "source": [
    "* 당신은 C코드 혹은 Java나 C#코드를 치면서 Ceremony(불필요한 행사코드)에 고통받은 적이 있습니까?"
   ]
  },
  {
   "cell_type": "markdown",
   "metadata": {
    "slideshow": {
     "slide_type": "fragment"
    }
   },
   "source": [
    "* 당신은 포인터 연산보다 계산 알고리즘을 중요시합니까?"
   ]
  },
  {
   "cell_type": "markdown",
   "metadata": {
    "slideshow": {
     "slide_type": "fragment"
    }
   },
   "source": [
    "* 이 중에 하나라도 해당 된다면 함수형 프로그래밍을 하는 것이 이득이다."
   ]
  },
  {
   "cell_type": "markdown",
   "metadata": {
    "slideshow": {
     "slide_type": "subslide"
    }
   },
   "source": [
    "## 무어의 법칙의 종말\n",
    "\n",
    "-----\n",
    "\n",
    "**- 무어의 법칙?**  \n",
    ": 인텔의 고든 무어가 1965년에 주장한 법칙. 1000$로 살 수 있는 반도체의 집적회로 성능은 24개월마다 2배로 증가한다는 법칙이다. 좀 더 광범위하게 정의하면 컴퓨터의 성능은 일정 시기마다 배가하며 기하급수적으로 증가한다. ~~즉 공돌이들을 2년마다 두 배의 성능의 컴퓨터를 개발하도록 고문하는 법칙~~\n"
   ]
  },
  {
   "cell_type": "markdown",
   "metadata": {
    "slideshow": {
     "slide_type": "fragment"
    }
   },
   "source": [
    "**- 왜 깨짐?**  \n",
    ": 집적도가 5nm 쯤으로 가면 양자역학에서 밥먹듯 등장하는 터널링 현상으로 인해 전자가 다른 곳으로 워프해버리기 때문에 다른 와이어에 합선이 되는 등의 문제가 발생한다. 이 때쯤이면 더 이상 집적도를 높일 수 없기에 무어의 법칙은 반드시 (안 좋은 방향으로) 깨지게 된다. ~~양자역학이 또, 잘 가라 김용우~~"
   ]
  },
  {
   "cell_type": "markdown",
   "metadata": {
    "slideshow": {
     "slide_type": "fragment"
    }
   },
   "source": [
    "**- 해결책은?**  \n",
    ": 사실 CPU의 집적도를 높여서 연산 속도를 높이는 방식은 이미 한참 전에 끝나있다. 멀티코어 프로세서가 그 때문에 도입된 기술이고, 현재 멀티 프로세싱 기술은 코어 당 클럭의 숫자 그대로 온전히 연산 속도를 내지 못한다. 현재 CPU 속도는 L2캐시와 아키텍처 개선을 통해 높이는 것이 대세. 또한 GPGPU같이 작은 코어를 잔뜩 때려박아서 연산 속도를 높이는 방식은 아직도 유효하다. 슈퍼컴퓨터 역시 같은 원리로 성능이 향상 중이다. (출처: 나무위키)"
   ]
  },
  {
   "cell_type": "markdown",
   "metadata": {
    "slideshow": {
     "slide_type": "subslide"
    }
   },
   "source": [
    "## 답은 멀티코어다.\n",
    "\n",
    "-----\n",
    "\n",
    "* 노트북이 6코어 8코어 달고 나오는 시대에 싱글스레드 컴퓨팅은 경운기 한 대 끌고 12차선 고속도로 주행하는꼴\n",
    "* 프로그래밍 언어들도 멀티코어 지원을 활발히 하기 시작\n",
    "* 하지만 객체지향에는 심각한 문제가 존재하는데.."
   ]
  },
  {
   "cell_type": "markdown",
   "metadata": {
    "slideshow": {
     "slide_type": "fragment"
    }
   },
   "source": [
    "<p style=\"text-align:center\"><b>Mutability</b></p>"
   ]
  },
  {
   "cell_type": "markdown",
   "metadata": {
    "slideshow": {
     "slide_type": "fragment"
    }
   },
   "source": [
    "* 변하는 것 자체는 상관없지만 여러 스레드가 하나의 자료에 접근하여 변경하려는 것은 심각한 문제 ~~(사공이 많으면 배가 산으로 간다)~~ ~~(멀티코어 시대를 직감한 선조들의 지혜)~~"
   ]
  },
  {
   "cell_type": "markdown",
   "metadata": {
    "slideshow": {
     "slide_type": "subslide"
    }
   },
   "source": [
    "### 그래서 어쩌자고?\n",
    "\n",
    "-----\n",
    "\n",
    "* 당연하게도 프로그래밍 언어들은 해결책들을 제시\n",
    "    * 병렬로 하지말고 동시로 하자 (Async) : Java, C#, JS, Go 등등\n",
    "    * 아예 병렬 못하게 잠궈버리자 ~~(병렬을 폐지합니다)~~ : Python\n",
    "    * 한 놈에게만 변경권한을 주자 : Rust\n",
    "* 대충 해결은 됐는데 난이도가 넘사벽"
   ]
  },
  {
   "cell_type": "markdown",
   "metadata": {
    "slideshow": {
     "slide_type": "fragment"
    }
   },
   "source": [
    "* 새로운 아이디어 : 아예 모든 변수가 변경불가능하면?\n",
    "* 그야말로 완벽한 병렬이 구현 가능\n",
    "* 하지만 객체지향에서는 데이터의 변경이 메인 $\\Rightarrow$ 불변을 메인으로 하는 함수형 프로그래밍이 답"
   ]
  },
  {
   "cell_type": "markdown",
   "metadata": {
    "slideshow": {
     "slide_type": "subslide"
    }
   },
   "source": [
    "## 성능을 올리는 방법\n",
    "\n",
    "-----\n",
    "\n",
    "**다음 중 성질이 다른 하나를 고르시오.**  \n",
    "1. 더 높은 쿨럭의 CPU를 구매한다.\n",
    "2. 서버에 노드 하나를 더 박는다.\n",
    "3. 비싼 GPU를 하나 더 구매한다.\n",
    "4. 대학원생 한 명 골라서 수학 공부를 하게 한다."
   ]
  },
  {
   "cell_type": "markdown",
   "metadata": {
    "slideshow": {
     "slide_type": "fragment"
    }
   },
   "source": [
    "**당연히 답은 4번** - 나머지는 돈이 들지만 4번은 돈이 안 든다.  \n",
    "\n",
    "* 함수형 프로그래밍 언어는 수학 실력이 올라가면 성능이 올라간다. (이공계인들에게는 그리 막 어렵진 않다.)"
   ]
  },
  {
   "cell_type": "markdown",
   "metadata": {
    "slideshow": {
     "slide_type": "subslide"
    }
   },
   "source": [
    "### 못 믿겠다\n",
    "\n",
    "------\n",
    "\n",
    "* 그럴 줄 알고 준비해봤다."
   ]
  },
  {
   "cell_type": "markdown",
   "metadata": {
    "slideshow": {
     "slide_type": "fragment"
    }
   },
   "source": [
    "* 자신의 수학적 프로그래밍 기술을 늘리기 가장 좋은 사이트인 [Project Euler](https://projecteuler.net/archives)를 예로 들어보자\n",
    "* 2번 문제는 다음과 같다"
   ]
  },
  {
   "cell_type": "markdown",
   "metadata": {
    "slideshow": {
     "slide_type": "fragment"
    }
   },
   "source": [
    "> \n",
    "Each new term in the Fibonacci sequence is generated by adding the previous two terms. By starting with 1 and 2, the first 10 terms will be:\n",
    ">\n",
    "1, 2, 3, 5, 8, 13, 21, 34, 55, 89, ...\n",
    ">\n",
    "By considering the terms in the Fibonacci sequence whose values do not exceed four million, find the sum of the even-valued terms.\n"
   ]
  },
  {
   "cell_type": "markdown",
   "metadata": {
    "slideshow": {
     "slide_type": "subslide"
    }
   },
   "source": [
    "* 피보나치 수열을 구하는 코드는 매우 간단하다. 알게 모르게 다들 함수형 프로그래밍으로 짤 것이다. Haskell은 낯설다고 했으니 Julia를 보자"
   ]
  },
  {
   "cell_type": "markdown",
   "metadata": {
    "slideshow": {
     "slide_type": "fragment"
    }
   },
   "source": [
    "```julia\n",
    "function fib(n::Int)::Int\n",
    "    if n==1 || n==2\n",
    "        return n\n",
    "    else\n",
    "        return fib(n-1) + fib(n-2)\n",
    "    end\n",
    "end\n",
    "```"
   ]
  },
  {
   "cell_type": "markdown",
   "metadata": {
    "slideshow": {
     "slide_type": "fragment"
    }
   },
   "source": [
    "* 함수가 함수를 Return하는데 그것도 자기 자신이다. 이것이 함수형 프로그래밍의 기본인 재귀 (Recursion) 이다.\n",
    "* 그럼 이제 문제를 풀어보자"
   ]
  },
  {
   "cell_type": "markdown",
   "metadata": {
    "slideshow": {
     "slide_type": "subslide"
    }
   },
   "source": [
    "```julia\n",
    "function sumEvenFib(m::Int)::Int\n",
    "    s = 0\n",
    "    n =  1\n",
    "    while fib(n) <= m\n",
    "        if mod(fib(n),2)==0\n",
    "            s += fib(n)\n",
    "            n += 1\n",
    "        else\n",
    "            n += 1\n",
    "        end\n",
    "    end\n",
    "    return s\n",
    "end\n",
    "```"
   ]
  },
  {
   "cell_type": "markdown",
   "metadata": {
    "slideshow": {
     "slide_type": "subslide"
    }
   },
   "source": [
    "* 위의 코드는 함수형 프로그래밍의 패러다임을 따른 것이 맞나요?"
   ]
  },
  {
   "cell_type": "markdown",
   "metadata": {
    "slideshow": {
     "slide_type": "fragment"
    }
   },
   "source": [
    "* `s`, `n`이 변했으니 당연히 땡!"
   ]
  },
  {
   "cell_type": "markdown",
   "metadata": {
    "slideshow": {
     "slide_type": "fragment"
    }
   },
   "source": [
    "* 여튼 이걸로 문제를 풀어보면 Julia는 매우 빠르게 답을 내놓는다. (동일한 코드로 R에서 10초 걸림)"
   ]
  },
  {
   "cell_type": "markdown",
   "metadata": {
    "slideshow": {
     "slide_type": "subslide"
    }
   },
   "source": [
    "### 풀리면 된 거 아님?\n",
    "\n",
    "-----\n",
    "\n",
    "* ㅇㅇ 근데 위의 `fib` 코드로 `fib(100)` 해보셈요."
   ]
  },
  {
   "cell_type": "markdown",
   "metadata": {
    "slideshow": {
     "slide_type": "fragment"
    }
   },
   "source": [
    "* 실험해본결과 10분안엔 안나오더라"
   ]
  },
  {
   "cell_type": "markdown",
   "metadata": {
    "slideshow": {
     "slide_type": "fragment"
    }
   },
   "source": [
    "* 뭐가 문제일까? - 간단히 `fib(5)`를 생각해보자."
   ]
  },
  {
   "cell_type": "markdown",
   "metadata": {
    "slideshow": {
     "slide_type": "fragment"
    }
   },
   "source": [
    "```julia\n",
    "fib(5) = fib(3) + fib(4)\n",
    "       = (fib(1) + fib(2)) + (fib(2) + fib(3))\n",
    "       = (1 + 2) + (2 + fib(1) + fib(2))\n",
    "       = 3 + (2 + 1 + 2)\n",
    "       = 3 + 5\n",
    "       = 8\n",
    "```"
   ]
  },
  {
   "cell_type": "markdown",
   "metadata": {
    "slideshow": {
     "slide_type": "fragment"
    }
   },
   "source": [
    "* `fib(5)`를 구하는데 `fib`이 8번 필요하니 `fib(100)`은 답이 없다.\n",
    "* 만일 구해놓은 결과를 메모리에 박아놓고 꺼내 쓴다면 빠르겠지만 이 코드는 하나 구할 때 마다 쭉쭉 늘어난다."
   ]
  },
  {
   "cell_type": "markdown",
   "metadata": {
    "slideshow": {
     "slide_type": "fragment"
    }
   },
   "source": [
    "* 메모리에 박지는 못하니 데이터로 박제하면 어떨까? 근데 for 문은 그게 불가능. $\\Rightarrow$ 답은 함수형!"
   ]
  },
  {
   "cell_type": "markdown",
   "metadata": {
    "slideshow": {
     "slide_type": "subslide"
    }
   },
   "source": [
    "```julia\n",
    "function fibTuple(t::Tuple{BigInt, BigInt, BigInt})::Tuple{BigInt,BigInt,BigInt}\n",
    "  (x,y,z) = t\n",
    "  if z == 0\n",
    "    return t\n",
    "  else\n",
    "    return fibTuple((y, x+y, z-1))\n",
    "  end\n",
    "end\n",
    "\n",
    "function fibResult(t::Tuple{BigInt,BigInt,BigInt})::BigInt\n",
    "  return t[1]\n",
    "end\n",
    "\n",
    "function fib(n::BigInt)::BigInt\n",
    "  a = BigInt(1)\n",
    "  return fibResult(fibTuple((a,a,n)))\n",
    "end\n",
    "```"
   ]
  },
  {
   "cell_type": "markdown",
   "metadata": {
    "slideshow": {
     "slide_type": "subslide"
    }
   },
   "source": [
    "* 빠르긴 매우 빠른데 알아보기도 어렵고 길다.\n",
    "* Julia는 완벽한 함수형 언어는 아니기 때문 - 함수형 자료구조를 지원하지 않는다.\n",
    "* 그렇다면 Haskell을 보자."
   ]
  },
  {
   "cell_type": "markdown",
   "metadata": {
    "slideshow": {
     "slide_type": "fragment"
    }
   },
   "source": [
    "```haskell\n",
    "fib = 1:2:zipWith (+) fib (tail fib)\n",
    "```"
   ]
  },
  {
   "cell_type": "markdown",
   "metadata": {
    "slideshow": {
     "slide_type": "fragment"
    }
   },
   "source": [
    "* 세상에나 한 줄로 구현되었다!\n",
    "* 속도도 미친듯이 빠르다 10000번째 fib도 0.01초; "
   ]
  },
  {
   "cell_type": "markdown",
   "metadata": {
    "slideshow": {
     "slide_type": "subslide"
    }
   },
   "source": [
    "### 원리, 원리를 보자!\n",
    "\n",
    "-----\n",
    "\n",
    "```haskell\n",
    "fib!!10 = 1:2:zipWith (+) [1,2,..] [2,..]\n",
    "        = 1:2:3:zipWith (+) [2,3,..] [3,..]\n",
    "        = 1:2:3:5:zipWith (+) [3,5,..] [5,..]\n",
    "        ..\n",
    "        = 1:2:3:5:8:13:21:34:55:zipWith (+) [34,55] [55]\n",
    "        = 1:2:3:5:8:13:21:34:55:89\n",
    "        = [1,2,3,5,8,13,21,34,55,89]\n",
    "```"
   ]
  },
  {
   "cell_type": "markdown",
   "metadata": {
    "slideshow": {
     "slide_type": "fragment"
    }
   },
   "source": [
    "* 엄청 길어보이지만 사실 계산은 8번 밖에 안했다. 그것도 그냥 덧셈. \n",
    "* Python으로도 for문으로 8까지는 0.01초도 안걸린다.\n",
    "* 마찬가지로 Python에서조차 for문으로 10000까지 가봐야 0.01초도 안걸린다.\n",
    "* 고로 10000번째 fib 따위는 우스워진다. 하지만 커질 수록 수가 압도적으로 커지기에 시간은 느려진다."
   ]
  },
  {
   "cell_type": "markdown",
   "metadata": {
    "slideshow": {
     "slide_type": "fragment"
    }
   },
   "source": [
    "* 뭔 소린지 모르겠다고? 정상이다.\n",
    "* 첫 강의에 연결 리스트를 모두 이해하면 이제 할께 없으니 다음에 다루겠다."
   ]
  },
  {
   "cell_type": "markdown",
   "metadata": {
    "slideshow": {
     "slide_type": "subslide"
    }
   },
   "source": [
    "## 진정한 학자라면 현실적인 이유따위 필요없다!\n",
    "\n",
    "-----\n",
    "\n",
    "* 속도 향상, 멀티 코어 다 필요없고 일단 코드가 미친듯이 간결해진다.\n",
    "* 내가 지금까지 배웠던 수학을 다 써먹을 수 있다. (Category Theory!)\n",
    "* 즉, 엄밀하고 간결하니 매우 아름답다."
   ]
  },
  {
   "cell_type": "markdown",
   "metadata": {
    "slideshow": {
     "slide_type": "fragment"
    }
   },
   "source": [
    "* 그리고 지금까지 이런 변태들만 써왔다. 아마 그런 분들은 실용성이 없었어도 썼을 것."
   ]
  },
  {
   "cell_type": "markdown",
   "metadata": {
    "slideshow": {
     "slide_type": "fragment"
    }
   },
   "source": [
    "* 그런 의미에서 Haskell러들은 LQG와 비슷한 위치에 있다. (~~최강 변태 이경선~~)"
   ]
  },
  {
   "cell_type": "markdown",
   "metadata": {
    "slideshow": {
     "slide_type": "subslide"
    }
   },
   "source": [
    "## 그렇게 좋은데 왜 안쓰나?\n",
    "\n",
    "-----\n",
    "\n",
    "* 수학 훈련 안되어있으면 얻어터짐. 대부분의 프로그래머들은 수학 베이스가 이산수학외에 전무.\n",
    "\n",
    "![curve](Pictures/center_curve.png)"
   ]
  },
  {
   "cell_type": "markdown",
   "metadata": {
    "slideshow": {
     "slide_type": "subslide"
    }
   },
   "source": [
    "* 이미 객체지향 잘 쓰고 있는데 새로운 함수형 배우려니 골치가 아픔. 내용이 꽤 많음.\n",
    "\n",
    "![mindmap](Pictures/fpmindmap.png)"
   ]
  },
  {
   "cell_type": "markdown",
   "metadata": {
    "slideshow": {
     "slide_type": "subslide"
    }
   },
   "source": [
    "* Learning Curve가 너무 가파름. 앞에서 말한 수학적 베이스 전무와 비슷한 이치.\n",
    "\n",
    "![curves](Pictures/learningcurve.jpg)"
   ]
  },
  {
   "cell_type": "markdown",
   "metadata": {
    "slideshow": {
     "slide_type": "subslide"
    }
   },
   "source": [
    "* 광범위적 교수법 실패 (출처: [모나드괴담](https://xtendo.org/ko/monad#1))"
   ]
  },
  {
   "cell_type": "markdown",
   "metadata": {
    "slideshow": {
     "slide_type": "slide"
    }
   },
   "source": [
    "<h1 style=\"text-align:center\">그래서 뭐</h1>"
   ]
  },
  {
   "cell_type": "markdown",
   "metadata": {
    "slideshow": {
     "slide_type": "subslide"
    }
   },
   "source": [
    "## 바야흐로 개나 소나 함수형 프로그래밍 시대\n",
    "\n",
    "-----\n",
    "\n",
    "* 함수형 자바스크립트\n",
    "* 자바로 하는 함수형 프로그래밍\n",
    "* Learn Go Functional Programming\n",
    "* C++ Functional Programming"
   ]
  },
  {
   "cell_type": "markdown",
   "metadata": {
    "slideshow": {
     "slide_type": "fragment"
    }
   },
   "source": [
    "* 함수형 프로그래밍은 코딩 스타일로도 볼 수 있음. 하지만 함수형 패러다임을 지원하지 않는 언어에서 하는 것은 힘들 뿐만 아니라 비효율적"
   ]
  },
  {
   "cell_type": "markdown",
   "metadata": {
    "slideshow": {
     "slide_type": "fragment"
    }
   },
   "source": [
    "* 따라서 당연하겠지만 함수형 프로그래밍은 함수형 언어로 하는 것이 이득"
   ]
  },
  {
   "cell_type": "markdown",
   "metadata": {
    "slideshow": {
     "slide_type": "fragment"
    }
   },
   "source": [
    "* 물론 회사나 교수님이 MATLAB으로 하라는데 '싫어요! 전 Haskell을 할래요!' 하면 안된다. 적절히 타협하자."
   ]
  },
  {
   "cell_type": "markdown",
   "metadata": {
    "slideshow": {
     "slide_type": "fragment"
    }
   },
   "source": [
    "* 그래서 함수형 프로그래밍 언어는 뭐가 있나?"
   ]
  },
  {
   "cell_type": "markdown",
   "metadata": {
    "slideshow": {
     "slide_type": "subslide"
    }
   },
   "source": [
    "![FP-Langs](Pictures/fplangs.png)"
   ]
  },
  {
   "cell_type": "markdown",
   "metadata": {
    "slideshow": {
     "slide_type": "subslide"
    }
   },
   "source": [
    "### 1. Haskell\n",
    "\n",
    "---\n",
    "\n",
    "![haskell](Pictures/logos/haskell.png)"
   ]
  },
  {
   "cell_type": "markdown",
   "metadata": {
    "slideshow": {
     "slide_type": "subslide"
    }
   },
   "source": [
    "### 1. Haskell\n",
    "\n",
    "---\n",
    "\n",
    "* 1930년대에 Alonzo Church 가 Lambda Calculus를 발명한 후로 수 없이 많은 함수형 프로그래밍 언어들이 난립\n"
   ]
  },
  {
   "cell_type": "markdown",
   "metadata": {
    "slideshow": {
     "slide_type": "fragment"
    }
   },
   "source": [
    "* "
   ]
  },
  {
   "cell_type": "markdown",
   "metadata": {},
   "source": []
  },
  {
   "cell_type": "markdown",
   "metadata": {
    "slideshow": {
     "slide_type": "subslide"
    }
   },
   "source": [
    "## 아주 간단하게 정리하면\n",
    "\n",
    "-----\n",
    "\n",
    "* Haskell: 순수함수형언어. 함수형 언어들의 대부. 수학 학회에서 제작.\n",
    "* Erlang: 고도의 분산 프로그래밍을 위해 만들어짐. LISP 영향을 받아 문법이 좀 괴랄함. 병렬성은 탁월.\n",
    "* Clojure: LISP의 JVM 버전의 방언. JAVA를 갖다 쓸 수 있다는 장점이 있음.\n",
    "* F#: MS에서 만듬. LISP 문법과 흡사. Clojure와 F#의 차이는 .NET이냐 JVM이냐의 차이.\n",
    "* OCaml: Haskell이 게으른 계산의 대표라면 OCaml은 적극적 계산의 대표. Facebook에서 쓴다고 함.\n",
    "* Scala: FP + OOP. (~~왼손엔 성경 오른손엔 코랄~~). Java와 100% 호환된다는 압도적 장점 보유.\n",
    "* Elm: 하도 함수형 자바스크립트 거려서 Haskell의 문법을 웹 프로그래밍에 걍 이식해버린 언어. 진짜 똑같다.\n",
    "* Elixir: Erlang문법이 괴랄하다보니 깔끔히 Ruby스타일로 정리한 언어. Erlang과 100%호환됨."
   ]
  },
  {
   "cell_type": "markdown",
   "metadata": {
    "slideshow": {
     "slide_type": "subslide"
    }
   },
   "source": [
    "### 당연히 모를테니 좀 더 세세하게 정리하면\n",
    "\n",
    "-----\n",
    "\n",
    "* Ruby 베이스 + 정적프로그래밍 혐오 + 웹 프로그래밍 관심 + 병렬 프로그래밍 덕후 $\\Rightarrow$ **Elixir**"
   ]
  },
  {
   "cell_type": "markdown",
   "metadata": {
    "slideshow": {
     "slide_type": "fragment"
    }
   },
   "source": [
    "* C++ 보다 C가 좋고 MATLAB보다 FORTRAN이 좋다 $\\Rightarrow$ **Erlang**"
   ]
  },
  {
   "cell_type": "markdown",
   "metadata": {
    "slideshow": {
     "slide_type": "fragment"
    }
   },
   "source": [
    "* 직장에서 Java 쓰라고 압박 + 객체지향 베이스 + 돈 벌고 싶다 $\\Rightarrow$ **Scala**"
   ]
  },
  {
   "cell_type": "markdown",
   "metadata": {
    "slideshow": {
     "slide_type": "fragment"
    }
   },
   "source": [
    "* I Love Visual Studio $\\Rightarrow$ **F#**"
   ]
  },
  {
   "cell_type": "markdown",
   "metadata": {
    "slideshow": {
     "slide_type": "fragment"
    }
   },
   "source": [
    "* 함수형 프로그래밍을 엄밀하게 공부하고 싶다 + 수학 베이스 $\\Rightarrow$ **Haskell**"
   ]
  },
  {
   "cell_type": "markdown",
   "metadata": {
    "slideshow": {
     "slide_type": "fragment"
    }
   },
   "source": [
    "* 웹 개발하고 싶다 + Haskell 베이스 $\\Rightarrow$ **Elm**"
   ]
  },
  {
   "cell_type": "markdown",
   "metadata": {
    "slideshow": {
     "slide_type": "fragment"
    }
   },
   "source": [
    "* LISP이 좋다 + Emacs를 사랑한다 $\\Rightarrow$ **Clojure**"
   ]
  },
  {
   "cell_type": "markdown",
   "metadata": {
    "slideshow": {
     "slide_type": "subslide"
    }
   },
   "source": [
    "## 그래도 언어 새로 하자니 부담이 큰 데\n",
    "\n",
    "-----\n",
    "\n",
    "* 그렇게 생각하는 사람들이 모두 4-50대에 실직함 (과거의 ALGOL언어 신봉자들)"
   ]
  },
  {
   "cell_type": "markdown",
   "metadata": {
    "slideshow": {
     "slide_type": "fragment"
    }
   },
   "source": [
    "* 대세는 폴리글랏 프로그래밍. 어떤 언어를 잘하냐가 아니라 새로운 언어를 얼마나 빨리 배울 수 있느냐의 시대"
   ]
  },
  {
   "cell_type": "markdown",
   "metadata": {
    "slideshow": {
     "slide_type": "fragment"
    }
   },
   "source": [
    "* 시간 나면 폴리글랏 프로그래밍 책 꼭 읽어보세요. 캐잼임."
   ]
  },
  {
   "cell_type": "markdown",
   "metadata": {
    "slideshow": {
     "slide_type": "fragment"
    }
   },
   "source": [
    "* 여튼 저기서 내가 쓸 수 있는게 Haskell, Elm, Elixir, Scala 정돈데 스터디는 Haskell을 중심으로 진행할 것. (~~제일 빡센 걸로 배워야 모든게 쉬워짐~~)은 농담이고 그리 안 어려움."
   ]
  },
  {
   "cell_type": "markdown",
   "metadata": {
    "slideshow": {
     "slide_type": "fragment"
    }
   },
   "source": [
    "* 하지만 이해를 돕기 위해 종종 Julia를 데려올테니 걱정은 ㄴㄴ"
   ]
  },
  {
   "cell_type": "markdown",
   "metadata": {
    "slideshow": {
     "slide_type": "slide"
    }
   },
   "source": [
    "<h1 style=\"text-align:center\">끝으로</h1>"
   ]
  },
  {
   "cell_type": "markdown",
   "metadata": {
    "slideshow": {
     "slide_type": "subslide"
    }
   },
   "source": [
    "## 사람이 되자\n",
    "\n",
    "-----"
   ]
  },
  {
   "cell_type": "markdown",
   "metadata": {
    "slideshow": {
     "slide_type": "fragment"
    }
   },
   "source": [
    "![Simson](Pictures/simson.png)"
   ]
  }
 ],
 "metadata": {
  "celltoolbar": "Slideshow",
  "kernelspec": {
   "display_name": "Haskell",
   "language": "haskell",
   "name": "haskell"
  },
  "language_info": {
   "codemirror_mode": "ihaskell",
   "file_extension": ".hs",
   "name": "haskell",
   "version": "8.2.2"
  }
 },
 "nbformat": 4,
 "nbformat_minor": 2
}
